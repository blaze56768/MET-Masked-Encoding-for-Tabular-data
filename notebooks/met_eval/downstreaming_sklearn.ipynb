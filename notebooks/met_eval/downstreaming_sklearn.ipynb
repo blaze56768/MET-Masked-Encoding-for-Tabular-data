{
 "cells": [
  {
   "cell_type": "markdown",
   "metadata": {},
   "source": [
    "# Evaluation \n",
    "In this notebook we are loading our pretrained self supervised model and fine-tuning on different noisy datasets to check the robustness of the represenatations being learned."
   ]
  },
  {
   "cell_type": "markdown",
   "metadata": {},
   "source": [
    "### 1. Load libraries"
   ]
  },
  {
   "cell_type": "code",
   "execution_count": 1,
   "metadata": {},
   "outputs": [],
   "source": [
    "import numpy as np\n",
    "from models import transformer_autoencoder\n",
    "from sklearn.linear_model import LogisticRegression\n",
    "from sklearn.metrics import roc_auc_score,f1_score,average_precision_score,accuracy_score\n",
    "import lightning as L\n",
    "import pandas as pd\n",
    "import torch\n",
    "from datamodules.datasets import tabular_dataset\n",
    "import matplotlib.pyplot as plt"
   ]
  },
  {
   "cell_type": "markdown",
   "metadata": {},
   "source": [
    "### 2. Load Data"
   ]
  },
  {
   "cell_type": "markdown",
   "metadata": {},
   "source": [
    "Create a list to read different noisy datasets"
   ]
  },
  {
   "cell_type": "code",
   "execution_count": 2,
   "metadata": {},
   "outputs": [
    {
     "data": {
      "text/plain": [
       "['0', '10', '20', '30', '40', '50']"
      ]
     },
     "execution_count": 2,
     "metadata": {},
     "output_type": "execute_result"
    }
   ],
   "source": [
    "msk_list = [str(i) for i in range(20,60,10)]\n",
    "noise_list = [str(i) for i in range(0,60,10)]\n",
    "noise_list"
   ]
  },
  {
   "cell_type": "code",
   "execution_count": 3,
   "metadata": {},
   "outputs": [
    {
     "data": {
      "text/plain": [
       "6"
      ]
     },
     "execution_count": 3,
     "metadata": {},
     "output_type": "execute_result"
    }
   ],
   "source": [
    "noised_base_pth = \"../data/sample/train/scaled/train_flipped_labels_\"\n",
    "test = pd.read_csv(\"../data/sample/test/scaled/test_scaled.csv\")\n",
    "test_base_pth = \"../data/sample/test/scaled/test_scaled.csv\"\n",
    "denoised_list =[]\n",
    "noised_list=[]\n",
    "for i in range(len(noise_list)):\n",
    "    df = pd.read_csv(noised_base_pth+noise_list[i]+\".csv\")\n",
    "    df.drop('label', axis=1, inplace=True)\n",
    "    df.rename(columns = {'label_flip' : 'label'}, inplace=True)\n",
    "    noised_list.append(df)\n",
    "len(noised_list)\n"
   ]
  },
  {
   "cell_type": "code",
   "execution_count": 27,
   "metadata": {},
   "outputs": [
    {
     "data": {
      "text/html": [
       "<div>\n",
       "<style scoped>\n",
       "    .dataframe tbody tr th:only-of-type {\n",
       "        vertical-align: middle;\n",
       "    }\n",
       "\n",
       "    .dataframe tbody tr th {\n",
       "        vertical-align: top;\n",
       "    }\n",
       "\n",
       "    .dataframe thead th {\n",
       "        text-align: right;\n",
       "    }\n",
       "</style>\n",
       "<table border=\"1\" class=\"dataframe\">\n",
       "  <thead>\n",
       "    <tr style=\"text-align: right;\">\n",
       "      <th></th>\n",
       "      <th>f_0</th>\n",
       "      <th>f_1</th>\n",
       "      <th>f_2</th>\n",
       "      <th>f_3</th>\n",
       "      <th>f_4</th>\n",
       "      <th>f_5</th>\n",
       "      <th>f_6</th>\n",
       "      <th>f_7</th>\n",
       "      <th>f_8</th>\n",
       "      <th>f_9</th>\n",
       "      <th>...</th>\n",
       "      <th>f_12</th>\n",
       "      <th>f_13</th>\n",
       "      <th>f_14</th>\n",
       "      <th>f_15</th>\n",
       "      <th>f_16</th>\n",
       "      <th>f_17</th>\n",
       "      <th>f_18</th>\n",
       "      <th>f_19</th>\n",
       "      <th>f_20</th>\n",
       "      <th>label</th>\n",
       "    </tr>\n",
       "  </thead>\n",
       "  <tbody>\n",
       "    <tr>\n",
       "      <th>0</th>\n",
       "      <td>-0.302425</td>\n",
       "      <td>0.394286</td>\n",
       "      <td>0.308880</td>\n",
       "      <td>-0.186893</td>\n",
       "      <td>0.729531</td>\n",
       "      <td>-0.388732</td>\n",
       "      <td>0.625353</td>\n",
       "      <td>-0.214662</td>\n",
       "      <td>0.714145</td>\n",
       "      <td>-0.770483</td>\n",
       "      <td>...</td>\n",
       "      <td>0.823959</td>\n",
       "      <td>0.028582</td>\n",
       "      <td>-0.305572</td>\n",
       "      <td>0.609784</td>\n",
       "      <td>-0.721062</td>\n",
       "      <td>0.054898</td>\n",
       "      <td>0.248525</td>\n",
       "      <td>-0.333679</td>\n",
       "      <td>-0.441656</td>\n",
       "      <td>1</td>\n",
       "    </tr>\n",
       "    <tr>\n",
       "      <th>1</th>\n",
       "      <td>-1.111643</td>\n",
       "      <td>-0.171171</td>\n",
       "      <td>-0.227577</td>\n",
       "      <td>-0.186893</td>\n",
       "      <td>0.729531</td>\n",
       "      <td>-0.388732</td>\n",
       "      <td>-1.335923</td>\n",
       "      <td>-0.214662</td>\n",
       "      <td>0.714145</td>\n",
       "      <td>-0.261215</td>\n",
       "      <td>...</td>\n",
       "      <td>0.823959</td>\n",
       "      <td>1.146147</td>\n",
       "      <td>3.272553</td>\n",
       "      <td>0.609784</td>\n",
       "      <td>1.386844</td>\n",
       "      <td>-1.455677</td>\n",
       "      <td>0.984227</td>\n",
       "      <td>-0.019559</td>\n",
       "      <td>1.824984</td>\n",
       "      <td>1</td>\n",
       "    </tr>\n",
       "    <tr>\n",
       "      <th>2</th>\n",
       "      <td>-0.302425</td>\n",
       "      <td>1.242472</td>\n",
       "      <td>-0.522885</td>\n",
       "      <td>-0.186893</td>\n",
       "      <td>0.729531</td>\n",
       "      <td>-0.388732</td>\n",
       "      <td>0.625353</td>\n",
       "      <td>-0.214662</td>\n",
       "      <td>0.714145</td>\n",
       "      <td>-0.814982</td>\n",
       "      <td>...</td>\n",
       "      <td>0.823959</td>\n",
       "      <td>-1.088984</td>\n",
       "      <td>-0.305572</td>\n",
       "      <td>-1.639926</td>\n",
       "      <td>-0.721062</td>\n",
       "      <td>0.594389</td>\n",
       "      <td>-0.695394</td>\n",
       "      <td>0.210385</td>\n",
       "      <td>0.540261</td>\n",
       "      <td>1</td>\n",
       "    </tr>\n",
       "    <tr>\n",
       "      <th>3</th>\n",
       "      <td>1.316011</td>\n",
       "      <td>1.101108</td>\n",
       "      <td>1.116530</td>\n",
       "      <td>-0.186893</td>\n",
       "      <td>0.729531</td>\n",
       "      <td>-0.388732</td>\n",
       "      <td>0.625353</td>\n",
       "      <td>4.658484</td>\n",
       "      <td>0.714145</td>\n",
       "      <td>0.453244</td>\n",
       "      <td>...</td>\n",
       "      <td>0.823959</td>\n",
       "      <td>1.146147</td>\n",
       "      <td>-0.305572</td>\n",
       "      <td>-1.639926</td>\n",
       "      <td>-0.721062</td>\n",
       "      <td>-0.769052</td>\n",
       "      <td>-0.757859</td>\n",
       "      <td>-0.553358</td>\n",
       "      <td>0.337410</td>\n",
       "      <td>1</td>\n",
       "    </tr>\n",
       "    <tr>\n",
       "      <th>4</th>\n",
       "      <td>-1.111643</td>\n",
       "      <td>0.394286</td>\n",
       "      <td>5.140345</td>\n",
       "      <td>-0.186893</td>\n",
       "      <td>0.729531</td>\n",
       "      <td>-0.388732</td>\n",
       "      <td>0.625353</td>\n",
       "      <td>-0.214662</td>\n",
       "      <td>-1.400275</td>\n",
       "      <td>-0.805093</td>\n",
       "      <td>...</td>\n",
       "      <td>-1.213652</td>\n",
       "      <td>1.146147</td>\n",
       "      <td>-0.305572</td>\n",
       "      <td>-1.639926</td>\n",
       "      <td>1.386844</td>\n",
       "      <td>1.800888</td>\n",
       "      <td>0.068070</td>\n",
       "      <td>1.142479</td>\n",
       "      <td>-0.162368</td>\n",
       "      <td>0</td>\n",
       "    </tr>\n",
       "    <tr>\n",
       "      <th>...</th>\n",
       "      <td>...</td>\n",
       "      <td>...</td>\n",
       "      <td>...</td>\n",
       "      <td>...</td>\n",
       "      <td>...</td>\n",
       "      <td>...</td>\n",
       "      <td>...</td>\n",
       "      <td>...</td>\n",
       "      <td>...</td>\n",
       "      <td>...</td>\n",
       "      <td>...</td>\n",
       "      <td>...</td>\n",
       "      <td>...</td>\n",
       "      <td>...</td>\n",
       "      <td>...</td>\n",
       "      <td>...</td>\n",
       "      <td>...</td>\n",
       "      <td>...</td>\n",
       "      <td>...</td>\n",
       "      <td>...</td>\n",
       "      <td>...</td>\n",
       "    </tr>\n",
       "    <tr>\n",
       "      <th>39995</th>\n",
       "      <td>1.316011</td>\n",
       "      <td>-0.029807</td>\n",
       "      <td>0.046172</td>\n",
       "      <td>-0.186893</td>\n",
       "      <td>0.729531</td>\n",
       "      <td>-0.388732</td>\n",
       "      <td>0.625353</td>\n",
       "      <td>-0.214662</td>\n",
       "      <td>0.714145</td>\n",
       "      <td>1.914300</td>\n",
       "      <td>...</td>\n",
       "      <td>-1.213652</td>\n",
       "      <td>0.028582</td>\n",
       "      <td>-0.305572</td>\n",
       "      <td>0.609784</td>\n",
       "      <td>1.386844</td>\n",
       "      <td>2.762163</td>\n",
       "      <td>1.518652</td>\n",
       "      <td>0.754449</td>\n",
       "      <td>-0.306422</td>\n",
       "      <td>0</td>\n",
       "    </tr>\n",
       "    <tr>\n",
       "      <th>39996</th>\n",
       "      <td>-0.302425</td>\n",
       "      <td>-1.019357</td>\n",
       "      <td>-0.541016</td>\n",
       "      <td>-0.186893</td>\n",
       "      <td>0.729531</td>\n",
       "      <td>-0.388732</td>\n",
       "      <td>0.625353</td>\n",
       "      <td>-0.214662</td>\n",
       "      <td>-1.400275</td>\n",
       "      <td>-0.814982</td>\n",
       "      <td>...</td>\n",
       "      <td>-1.213652</td>\n",
       "      <td>-1.088984</td>\n",
       "      <td>-0.305572</td>\n",
       "      <td>-1.639926</td>\n",
       "      <td>-0.721062</td>\n",
       "      <td>0.094134</td>\n",
       "      <td>0.609436</td>\n",
       "      <td>-0.448651</td>\n",
       "      <td>1.037099</td>\n",
       "      <td>0</td>\n",
       "    </tr>\n",
       "    <tr>\n",
       "      <th>39997</th>\n",
       "      <td>-1.111643</td>\n",
       "      <td>0.818379</td>\n",
       "      <td>0.250143</td>\n",
       "      <td>-0.186893</td>\n",
       "      <td>0.729531</td>\n",
       "      <td>-0.388732</td>\n",
       "      <td>0.625353</td>\n",
       "      <td>-0.214662</td>\n",
       "      <td>0.714145</td>\n",
       "      <td>-0.814982</td>\n",
       "      <td>...</td>\n",
       "      <td>0.823959</td>\n",
       "      <td>-1.088984</td>\n",
       "      <td>-0.305572</td>\n",
       "      <td>0.609784</td>\n",
       "      <td>-0.721062</td>\n",
       "      <td>-0.082427</td>\n",
       "      <td>1.594999</td>\n",
       "      <td>1.101418</td>\n",
       "      <td>-0.121210</td>\n",
       "      <td>0</td>\n",
       "    </tr>\n",
       "    <tr>\n",
       "      <th>39998</th>\n",
       "      <td>-1.111643</td>\n",
       "      <td>-0.453900</td>\n",
       "      <td>-1.961787</td>\n",
       "      <td>-0.186893</td>\n",
       "      <td>-1.370745</td>\n",
       "      <td>-0.388732</td>\n",
       "      <td>0.625353</td>\n",
       "      <td>-0.214662</td>\n",
       "      <td>0.714145</td>\n",
       "      <td>-0.814982</td>\n",
       "      <td>...</td>\n",
       "      <td>0.823959</td>\n",
       "      <td>-1.088984</td>\n",
       "      <td>-0.305572</td>\n",
       "      <td>0.609784</td>\n",
       "      <td>1.386844</td>\n",
       "      <td>0.319739</td>\n",
       "      <td>0.047249</td>\n",
       "      <td>-1.179545</td>\n",
       "      <td>-0.115330</td>\n",
       "      <td>1</td>\n",
       "    </tr>\n",
       "    <tr>\n",
       "      <th>39999</th>\n",
       "      <td>0.506793</td>\n",
       "      <td>0.959744</td>\n",
       "      <td>0.113765</td>\n",
       "      <td>-0.186893</td>\n",
       "      <td>0.729531</td>\n",
       "      <td>-0.388732</td>\n",
       "      <td>-1.335923</td>\n",
       "      <td>-0.214662</td>\n",
       "      <td>0.714145</td>\n",
       "      <td>2.512566</td>\n",
       "      <td>...</td>\n",
       "      <td>0.823959</td>\n",
       "      <td>1.146147</td>\n",
       "      <td>-0.305572</td>\n",
       "      <td>0.609784</td>\n",
       "      <td>-0.721062</td>\n",
       "      <td>1.094645</td>\n",
       "      <td>-0.258137</td>\n",
       "      <td>-0.087311</td>\n",
       "      <td>-0.612168</td>\n",
       "      <td>0</td>\n",
       "    </tr>\n",
       "  </tbody>\n",
       "</table>\n",
       "<p>40000 rows × 22 columns</p>\n",
       "</div>"
      ],
      "text/plain": [
       "            f_0       f_1       f_2       f_3       f_4       f_5       f_6  \\\n",
       "0     -0.302425  0.394286  0.308880 -0.186893  0.729531 -0.388732  0.625353   \n",
       "1     -1.111643 -0.171171 -0.227577 -0.186893  0.729531 -0.388732 -1.335923   \n",
       "2     -0.302425  1.242472 -0.522885 -0.186893  0.729531 -0.388732  0.625353   \n",
       "3      1.316011  1.101108  1.116530 -0.186893  0.729531 -0.388732  0.625353   \n",
       "4     -1.111643  0.394286  5.140345 -0.186893  0.729531 -0.388732  0.625353   \n",
       "...         ...       ...       ...       ...       ...       ...       ...   \n",
       "39995  1.316011 -0.029807  0.046172 -0.186893  0.729531 -0.388732  0.625353   \n",
       "39996 -0.302425 -1.019357 -0.541016 -0.186893  0.729531 -0.388732  0.625353   \n",
       "39997 -1.111643  0.818379  0.250143 -0.186893  0.729531 -0.388732  0.625353   \n",
       "39998 -1.111643 -0.453900 -1.961787 -0.186893 -1.370745 -0.388732  0.625353   \n",
       "39999  0.506793  0.959744  0.113765 -0.186893  0.729531 -0.388732 -1.335923   \n",
       "\n",
       "            f_7       f_8       f_9  ...      f_12      f_13      f_14  \\\n",
       "0     -0.214662  0.714145 -0.770483  ...  0.823959  0.028582 -0.305572   \n",
       "1     -0.214662  0.714145 -0.261215  ...  0.823959  1.146147  3.272553   \n",
       "2     -0.214662  0.714145 -0.814982  ...  0.823959 -1.088984 -0.305572   \n",
       "3      4.658484  0.714145  0.453244  ...  0.823959  1.146147 -0.305572   \n",
       "4     -0.214662 -1.400275 -0.805093  ... -1.213652  1.146147 -0.305572   \n",
       "...         ...       ...       ...  ...       ...       ...       ...   \n",
       "39995 -0.214662  0.714145  1.914300  ... -1.213652  0.028582 -0.305572   \n",
       "39996 -0.214662 -1.400275 -0.814982  ... -1.213652 -1.088984 -0.305572   \n",
       "39997 -0.214662  0.714145 -0.814982  ...  0.823959 -1.088984 -0.305572   \n",
       "39998 -0.214662  0.714145 -0.814982  ...  0.823959 -1.088984 -0.305572   \n",
       "39999 -0.214662  0.714145  2.512566  ...  0.823959  1.146147 -0.305572   \n",
       "\n",
       "           f_15      f_16      f_17      f_18      f_19      f_20  label  \n",
       "0      0.609784 -0.721062  0.054898  0.248525 -0.333679 -0.441656      1  \n",
       "1      0.609784  1.386844 -1.455677  0.984227 -0.019559  1.824984      1  \n",
       "2     -1.639926 -0.721062  0.594389 -0.695394  0.210385  0.540261      1  \n",
       "3     -1.639926 -0.721062 -0.769052 -0.757859 -0.553358  0.337410      1  \n",
       "4     -1.639926  1.386844  1.800888  0.068070  1.142479 -0.162368      0  \n",
       "...         ...       ...       ...       ...       ...       ...    ...  \n",
       "39995  0.609784  1.386844  2.762163  1.518652  0.754449 -0.306422      0  \n",
       "39996 -1.639926 -0.721062  0.094134  0.609436 -0.448651  1.037099      0  \n",
       "39997  0.609784 -0.721062 -0.082427  1.594999  1.101418 -0.121210      0  \n",
       "39998  0.609784  1.386844  0.319739  0.047249 -1.179545 -0.115330      1  \n",
       "39999  0.609784 -0.721062  1.094645 -0.258137 -0.087311 -0.612168      0  \n",
       "\n",
       "[40000 rows x 22 columns]"
      ]
     },
     "execution_count": 27,
     "metadata": {},
     "output_type": "execute_result"
    }
   ],
   "source": [
    "noised_list[2]"
   ]
  },
  {
   "cell_type": "markdown",
   "metadata": {},
   "source": [
    "### 3. Load Pre-trained model"
   ]
  },
  {
   "cell_type": "code",
   "execution_count": 5,
   "metadata": {},
   "outputs": [
    {
     "data": {
      "text/plain": [
       "TransformerAutoEncoder(\n",
       "  (masker): Masker()\n",
       "  (position_embedding): PositionalEmbedding(\n",
       "    (position_embedding): Embedding(21, 127)\n",
       "  )\n",
       "  (encoder): TransformerEncoder(\n",
       "    (encoder_blocks): ModuleList(\n",
       "      (0-4): 5 x TransformerBlock(\n",
       "        (multihead_attention): MultiheadAttention(\n",
       "          (out_proj): NonDynamicallyQuantizableLinear(in_features=128, out_features=128, bias=True)\n",
       "        )\n",
       "        (feedforward): PositionwiseFeedForward(\n",
       "          (linear_in): Linear(in_features=128, out_features=128, bias=True)\n",
       "          (linear_out): Linear(in_features=128, out_features=128, bias=True)\n",
       "          (dropout): Dropout(p=0.1, inplace=False)\n",
       "        )\n",
       "        (dropout): Dropout(p=0.1, inplace=False)\n",
       "        (layernorm_attention): LayerNorm((128,), eps=1e-05, elementwise_affine=True)\n",
       "        (layernorm_feedforward): LayerNorm((128,), eps=1e-05, elementwise_affine=True)\n",
       "      )\n",
       "    )\n",
       "  )\n",
       "  (decoder): TransformerDecoder(\n",
       "    (decoder_blocks): ModuleList(\n",
       "      (0-2): 3 x TransformerBlock(\n",
       "        (multihead_attention): MultiheadAttention(\n",
       "          (out_proj): NonDynamicallyQuantizableLinear(in_features=128, out_features=128, bias=True)\n",
       "        )\n",
       "        (feedforward): PositionwiseFeedForward(\n",
       "          (linear_in): Linear(in_features=128, out_features=128, bias=True)\n",
       "          (linear_out): Linear(in_features=128, out_features=128, bias=True)\n",
       "          (dropout): Dropout(p=0.1, inplace=False)\n",
       "        )\n",
       "        (dropout): Dropout(p=0.1, inplace=False)\n",
       "        (layernorm_attention): LayerNorm((128,), eps=1e-05, elementwise_affine=True)\n",
       "        (layernorm_feedforward): LayerNorm((128,), eps=1e-05, elementwise_affine=True)\n",
       "      )\n",
       "    )\n",
       "  )\n",
       "  (projection_head): Linear(in_features=128, out_features=1, bias=True)\n",
       ")"
      ]
     },
     "execution_count": 5,
     "metadata": {},
     "output_type": "execute_result"
    }
   ],
   "source": [
    "pretrain_base_pth = \"../outputs/pretrainlocal/mask_50/epoch=68.ckpt\"\n",
    "pretrained=transformer_autoencoder.TransformerAutoEncoder.load_from_checkpoint(pretrain_base_pth)\n",
    "pretrained.eval()"
   ]
  },
  {
   "cell_type": "markdown",
   "metadata": {},
   "source": [
    "### 4. Fine-tuning"
   ]
  },
  {
   "cell_type": "code",
   "execution_count": 4,
   "metadata": {},
   "outputs": [],
   "source": [
    "features_numerical = ['f_0', 'f_1', 'f_2', 'f_3', 'f_4', 'f_5', 'f_6', 'f_7', 'f_8', 'f_9', 'f_10', 'f_11', 'f_12', 'f_13', 'f_14', 'f_15', 'f_16', 'f_17', 'f_18', 'f_19', 'f_20']\n",
    "features_categorical = []\n",
    "name_labels = ['label']"
   ]
  },
  {
   "cell_type": "markdown",
   "metadata": {},
   "source": [
    "#### 4.1. Masking Rate = 50%"
   ]
  },
  {
   "cell_type": "code",
   "execution_count": 62,
   "metadata": {},
   "outputs": [
    {
     "name": "stderr",
     "output_type": "stream",
     "text": [
      "/Users/A117870943/anaconda3/envs/telco_ai/lib/python3.8/site-packages/sklearn/linear_model/_logistic.py:460: ConvergenceWarning: lbfgs failed to converge (status=1):\n",
      "STOP: TOTAL NO. of ITERATIONS REACHED LIMIT.\n",
      "\n",
      "Increase the number of iterations (max_iter) or scale the data as shown in:\n",
      "    https://scikit-learn.org/stable/modules/preprocessing.html\n",
      "Please also refer to the documentation for alternative solver options:\n",
      "    https://scikit-learn.org/stable/modules/linear_model.html#logistic-regression\n",
      "  n_iter_i = _check_optimize_result(\n"
     ]
    },
    {
     "name": "stdout",
     "output_type": "stream",
     "text": [
      "-----0% noise-----\n",
      "AUC: 0.5314009661835748\n",
      "F1: 0.20833333333333334\n",
      "AP: 0.30005787037037035\n",
      "Accuracy: 0.703125\n"
     ]
    },
    {
     "name": "stderr",
     "output_type": "stream",
     "text": [
      "/Users/A117870943/anaconda3/envs/telco_ai/lib/python3.8/site-packages/sklearn/linear_model/_logistic.py:460: ConvergenceWarning: lbfgs failed to converge (status=1):\n",
      "STOP: TOTAL NO. of ITERATIONS REACHED LIMIT.\n",
      "\n",
      "Increase the number of iterations (max_iter) or scale the data as shown in:\n",
      "    https://scikit-learn.org/stable/modules/preprocessing.html\n",
      "Please also refer to the documentation for alternative solver options:\n",
      "    https://scikit-learn.org/stable/modules/linear_model.html#logistic-regression\n",
      "  n_iter_i = _check_optimize_result(\n"
     ]
    },
    {
     "name": "stdout",
     "output_type": "stream",
     "text": [
      "-----10% noise-----\n",
      "AUC: 0.5875603864734299\n",
      "F1: 0.3728813559322034\n",
      "AP: 0.3414477657004831\n",
      "Accuracy: 0.7109375\n"
     ]
    },
    {
     "name": "stderr",
     "output_type": "stream",
     "text": [
      "/Users/A117870943/anaconda3/envs/telco_ai/lib/python3.8/site-packages/sklearn/linear_model/_logistic.py:460: ConvergenceWarning: lbfgs failed to converge (status=1):\n",
      "STOP: TOTAL NO. of ITERATIONS REACHED LIMIT.\n",
      "\n",
      "Increase the number of iterations (max_iter) or scale the data as shown in:\n",
      "    https://scikit-learn.org/stable/modules/preprocessing.html\n",
      "Please also refer to the documentation for alternative solver options:\n",
      "    https://scikit-learn.org/stable/modules/linear_model.html#logistic-regression\n",
      "  n_iter_i = _check_optimize_result(\n"
     ]
    },
    {
     "name": "stdout",
     "output_type": "stream",
     "text": [
      "-----20% noise-----\n",
      "AUC: 0.6352657004830917\n",
      "F1: 0.47058823529411764\n",
      "AP: 0.3784722222222222\n",
      "Accuracy: 0.71875\n"
     ]
    },
    {
     "name": "stderr",
     "output_type": "stream",
     "text": [
      "/Users/A117870943/anaconda3/envs/telco_ai/lib/python3.8/site-packages/sklearn/linear_model/_logistic.py:460: ConvergenceWarning: lbfgs failed to converge (status=1):\n",
      "STOP: TOTAL NO. of ITERATIONS REACHED LIMIT.\n",
      "\n",
      "Increase the number of iterations (max_iter) or scale the data as shown in:\n",
      "    https://scikit-learn.org/stable/modules/preprocessing.html\n",
      "Please also refer to the documentation for alternative solver options:\n",
      "    https://scikit-learn.org/stable/modules/linear_model.html#logistic-regression\n",
      "  n_iter_i = _check_optimize_result(\n"
     ]
    },
    {
     "name": "stdout",
     "output_type": "stream",
     "text": [
      "-----30% noise-----\n",
      "AUC: 0.7083333333333334\n",
      "F1: 0.5783132530120482\n",
      "AP: 0.43417553191489355\n",
      "Accuracy: 0.7265625\n"
     ]
    },
    {
     "name": "stderr",
     "output_type": "stream",
     "text": [
      "/Users/A117870943/anaconda3/envs/telco_ai/lib/python3.8/site-packages/sklearn/linear_model/_logistic.py:460: ConvergenceWarning: lbfgs failed to converge (status=1):\n",
      "STOP: TOTAL NO. of ITERATIONS REACHED LIMIT.\n",
      "\n",
      "Increase the number of iterations (max_iter) or scale the data as shown in:\n",
      "    https://scikit-learn.org/stable/modules/preprocessing.html\n",
      "Please also refer to the documentation for alternative solver options:\n",
      "    https://scikit-learn.org/stable/modules/linear_model.html#logistic-regression\n",
      "  n_iter_i = _check_optimize_result(\n"
     ]
    },
    {
     "name": "stdout",
     "output_type": "stream",
     "text": [
      "-----40% noise-----\n",
      "AUC: 0.7155797101449276\n",
      "F1: 0.5825242718446602\n",
      "AP: 0.420009328358209\n",
      "Accuracy: 0.6640625\n",
      "-----50% noise-----\n",
      "AUC: 0.6871980676328502\n",
      "F1: 0.5555555555555556\n",
      "AP: 0.38589891975308643\n",
      "Accuracy: 0.5625\n"
     ]
    },
    {
     "name": "stderr",
     "output_type": "stream",
     "text": [
      "/Users/A117870943/anaconda3/envs/telco_ai/lib/python3.8/site-packages/sklearn/linear_model/_logistic.py:460: ConvergenceWarning: lbfgs failed to converge (status=1):\n",
      "STOP: TOTAL NO. of ITERATIONS REACHED LIMIT.\n",
      "\n",
      "Increase the number of iterations (max_iter) or scale the data as shown in:\n",
      "    https://scikit-learn.org/stable/modules/preprocessing.html\n",
      "Please also refer to the documentation for alternative solver options:\n",
      "    https://scikit-learn.org/stable/modules/linear_model.html#logistic-regression\n",
      "  n_iter_i = _check_optimize_result(\n"
     ]
    }
   ],
   "source": [
    "# Define the device (CPU, GPU, or MPS)\n",
    "device = \"cpu\" #torch.device(\"mps\" if torch.has_mps else \"cuda\" if torch.cuda.is_available() else \"cpu\")\n",
    "\n",
    "msk_rate = \"50\"   \n",
    "df_data = []\n",
    "\n",
    "for i in range(len(noised_list)):\n",
    "    x_raw = tabular_dataset.TabularDataset(noised_base_pth + noise_list[i] + \".csv\", name_labels, features_numerical, features_categorical)\n",
    "    test_raw = tabular_dataset.TabularDataset(test_base_pth, name_labels, features_numerical, features_categorical)\n",
    "    \n",
    "    auc = f1 = ap = accuracy = 0\n",
    "    cnt = 0\n",
    "   \n",
    "    train_generator = torch.utils.data.DataLoader(x_raw, batch_size=128)\n",
    "    test_generator = torch.utils.data.DataLoader(test_raw, batch_size=128)\n",
    "    \n",
    "    # Initialize tensors on the correct device\n",
    "    emb_total = torch.Tensor().to(device)\n",
    "    lab_total = torch.Tensor().to(device)\n",
    "    emb_total_test = torch.Tensor().to(device)\n",
    "    lab_total_test = torch.Tensor().to(device)\n",
    "    \n",
    "    for batch in iter(train_generator):\n",
    "        batch_test = next(iter(test_generator))\n",
    "        cnt += 1\n",
    "        \n",
    "        with torch.no_grad():\n",
    "            # Move tensors to the correct device\n",
    "            x = batch[0].to(device)\n",
    "            labels = batch[1].to(device)\n",
    "            x_test = batch_test[0].to(device)\n",
    "            labels_test = batch_test[1].to(device)\n",
    "            \n",
    "            # Obtain embeddings\n",
    "            emb_per_batch = pretrained(x, 0).to(device)\n",
    "            emb_per_batch = emb_per_batch.view(emb_per_batch.size(0), -1) # properly flattening\n",
    "\n",
    "            emb_per_batch_test = pretrained(x_test, 0).to(device)\n",
    "            emb_per_batch_test = emb_per_batch_test.view(emb_per_batch_test.size(0), -1)\n",
    "\n",
    "            \n",
    "            # Concatenate embeddings and labels\n",
    "            emb_total = torch.cat([emb_total, emb_per_batch])\n",
    "            lab_total = torch.cat([lab_total, labels])\n",
    "            emb_total_test = torch.cat([emb_total_test, emb_per_batch_test])\n",
    "            lab_total_test = torch.cat([lab_total_test, labels_test])\n",
    "    \n",
    "\n",
    "    # Reshape embeddings to 2D\n",
    "    emb_total = emb_total.view(-1, emb_total.size(-1)).cpu().numpy()\n",
    "    lab_total = lab_total.view(-1).cpu().numpy()\n",
    "    emb_total_test = emb_total_test.view(-1, emb_total_test.size(-1)).cpu().numpy()\n",
    "    lab_total_test = lab_total_test.view(-1).cpu().numpy()\n",
    "\n",
    "\n",
    "    # Train logistic regression and evaluate\n",
    "    reg = LogisticRegression().fit(emb_total, lab_total)    \n",
    "    pred = reg.predict(emb_total_test)\n",
    "        \n",
    "    auc_batch = roc_auc_score(lab_total_test, pred)\n",
    "    f1_batch = f1_score(lab_total_test, pred)\n",
    "    ap_batch = average_precision_score(lab_total_test, pred)\n",
    "    accuracy_batch = accuracy_score(lab_total_test, pred)\n",
    "        \n",
    "    auc += auc_batch\n",
    "    f1 += f1_batch\n",
    "    ap += ap_batch\n",
    "    accuracy += accuracy_batch\n",
    "        \n",
    "    print(\"-----\" + noise_list[i] + \"% noise\" + \"-----\")\n",
    "    print(\"AUC: \" + str(auc))\n",
    "    print(\"F1: \" + str(f1))\n",
    "    print(\"AP: \" + str(ap))\n",
    "    print(\"Accuracy: \" + str(accuracy))\n",
    "    \n",
    "    df_data.append([msk_rate, noise_list[i], auc, f1, ap, accuracy])\n",
    "    \n",
    "df = pd.DataFrame(df_data, columns=[\"Masking\", \"Noise\", \"AUC\", \"F1\", \"AP\", \"Accuracy\"])\n"
   ]
  },
  {
   "cell_type": "markdown",
   "metadata": {},
   "source": [
    "# 50%"
   ]
  },
  {
   "cell_type": "code",
   "execution_count": 64,
   "metadata": {},
   "outputs": [
    {
     "data": {
      "text/html": [
       "<div>\n",
       "<style scoped>\n",
       "    .dataframe tbody tr th:only-of-type {\n",
       "        vertical-align: middle;\n",
       "    }\n",
       "\n",
       "    .dataframe tbody tr th {\n",
       "        vertical-align: top;\n",
       "    }\n",
       "\n",
       "    .dataframe thead th {\n",
       "        text-align: right;\n",
       "    }\n",
       "</style>\n",
       "<table border=\"1\" class=\"dataframe\">\n",
       "  <thead>\n",
       "    <tr style=\"text-align: right;\">\n",
       "      <th></th>\n",
       "      <th>Masking</th>\n",
       "      <th>Noise</th>\n",
       "      <th>AUC</th>\n",
       "      <th>F1</th>\n",
       "      <th>AP</th>\n",
       "      <th>Accuracy</th>\n",
       "    </tr>\n",
       "  </thead>\n",
       "  <tbody>\n",
       "    <tr>\n",
       "      <th>0</th>\n",
       "      <td>50</td>\n",
       "      <td>0</td>\n",
       "      <td>0.531401</td>\n",
       "      <td>0.208333</td>\n",
       "      <td>0.300058</td>\n",
       "      <td>0.703125</td>\n",
       "    </tr>\n",
       "    <tr>\n",
       "      <th>1</th>\n",
       "      <td>50</td>\n",
       "      <td>10</td>\n",
       "      <td>0.587560</td>\n",
       "      <td>0.372881</td>\n",
       "      <td>0.341448</td>\n",
       "      <td>0.710938</td>\n",
       "    </tr>\n",
       "    <tr>\n",
       "      <th>2</th>\n",
       "      <td>50</td>\n",
       "      <td>20</td>\n",
       "      <td>0.635266</td>\n",
       "      <td>0.470588</td>\n",
       "      <td>0.378472</td>\n",
       "      <td>0.718750</td>\n",
       "    </tr>\n",
       "    <tr>\n",
       "      <th>3</th>\n",
       "      <td>50</td>\n",
       "      <td>30</td>\n",
       "      <td>0.708333</td>\n",
       "      <td>0.578313</td>\n",
       "      <td>0.434176</td>\n",
       "      <td>0.726562</td>\n",
       "    </tr>\n",
       "    <tr>\n",
       "      <th>4</th>\n",
       "      <td>50</td>\n",
       "      <td>40</td>\n",
       "      <td>0.715580</td>\n",
       "      <td>0.582524</td>\n",
       "      <td>0.420009</td>\n",
       "      <td>0.664062</td>\n",
       "    </tr>\n",
       "    <tr>\n",
       "      <th>5</th>\n",
       "      <td>50</td>\n",
       "      <td>50</td>\n",
       "      <td>0.687198</td>\n",
       "      <td>0.555556</td>\n",
       "      <td>0.385899</td>\n",
       "      <td>0.562500</td>\n",
       "    </tr>\n",
       "  </tbody>\n",
       "</table>\n",
       "</div>"
      ],
      "text/plain": [
       "  Masking Noise       AUC        F1        AP  Accuracy\n",
       "0      50     0  0.531401  0.208333  0.300058  0.703125\n",
       "1      50    10  0.587560  0.372881  0.341448  0.710938\n",
       "2      50    20  0.635266  0.470588  0.378472  0.718750\n",
       "3      50    30  0.708333  0.578313  0.434176  0.726562\n",
       "4      50    40  0.715580  0.582524  0.420009  0.664062\n",
       "5      50    50  0.687198  0.555556  0.385899  0.562500"
      ]
     },
     "execution_count": 64,
     "metadata": {},
     "output_type": "execute_result"
    }
   ],
   "source": [
    "df.head(10)"
   ]
  },
  {
   "cell_type": "code",
   "execution_count": 65,
   "metadata": {},
   "outputs": [],
   "source": [
    "accuracies = df.Accuracy.to_list()\n",
    "f1_scores = df.F1.to_list()"
   ]
  },
  {
   "cell_type": "code",
   "execution_count": 69,
   "metadata": {},
   "outputs": [
    {
     "data": {
      "image/png": "[encoded data removed]",
      "text/plain": [
       "<Figure size 1200x600 with 2 Axes>"
      ]
     },
     "metadata": {},
     "output_type": "display_data"
    }
   ],
   "source": [
    "# Plot the accuracy and F1 scores\n",
    "percentages = [0,10, 20, 30, 40, 50]\n",
    "plt.figure(figsize=(12, 6))\n",
    "\n",
    "plt.subplot(1, 2, 1)\n",
    "plt.plot(percentages, accuracies, marker='o', label='Accuracy')\n",
    "plt.xlabel('Flip Percentage')\n",
    "plt.ylabel('Accuracy')\n",
    "plt.title('Accuracy vs. Noise Percentage')\n",
    "plt.legend()\n",
    "\n",
    "plt.subplot(1, 2, 2)\n",
    "plt.plot(percentages, f1_scores, marker='o', label='F1 Score', color='orange')\n",
    "plt.xlabel('Flip Percentage')\n",
    "plt.ylabel('F1 Score')\n",
    "plt.title('F1 Score vs. Noise Percentage')\n",
    "plt.legend()\n",
    "\n",
    "plt.tight_layout()\n",
    "plt.show()"
   ]
  },
  {
   "cell_type": "code",
   "execution_count": null,
   "metadata": {},
   "outputs": [],
   "source": []
  },
  {
   "cell_type": "markdown",
   "metadata": {},
   "source": [
    "#### 4.1. Masking Rate = 50% - with lower poistional embeddings dimensions"
   ]
  },
  {
   "cell_type": "code",
   "execution_count": 70,
   "metadata": {},
   "outputs": [
    {
     "data": {
      "text/plain": [
       "TransformerAutoEncoder(\n",
       "  (masker): Masker()\n",
       "  (position_embedding): PositionalEmbedding(\n",
       "    (position_embedding): Embedding(21, 127)\n",
       "  )\n",
       "  (encoder): TransformerEncoder(\n",
       "    (encoder_blocks): ModuleList(\n",
       "      (0-4): 5 x TransformerBlock(\n",
       "        (multihead_attention): MultiheadAttention(\n",
       "          (out_proj): NonDynamicallyQuantizableLinear(in_features=128, out_features=128, bias=True)\n",
       "        )\n",
       "        (feedforward): PositionwiseFeedForward(\n",
       "          (linear_in): Linear(in_features=128, out_features=128, bias=True)\n",
       "          (linear_out): Linear(in_features=128, out_features=128, bias=True)\n",
       "          (dropout): Dropout(p=0.1, inplace=False)\n",
       "        )\n",
       "        (dropout): Dropout(p=0.1, inplace=False)\n",
       "        (layernorm_attention): LayerNorm((128,), eps=1e-05, elementwise_affine=True)\n",
       "        (layernorm_feedforward): LayerNorm((128,), eps=1e-05, elementwise_affine=True)\n",
       "      )\n",
       "    )\n",
       "  )\n",
       "  (decoder): TransformerDecoder(\n",
       "    (decoder_blocks): ModuleList(\n",
       "      (0-2): 3 x TransformerBlock(\n",
       "        (multihead_attention): MultiheadAttention(\n",
       "          (out_proj): NonDynamicallyQuantizableLinear(in_features=128, out_features=128, bias=True)\n",
       "        )\n",
       "        (feedforward): PositionwiseFeedForward(\n",
       "          (linear_in): Linear(in_features=128, out_features=128, bias=True)\n",
       "          (linear_out): Linear(in_features=128, out_features=128, bias=True)\n",
       "          (dropout): Dropout(p=0.1, inplace=False)\n",
       "        )\n",
       "        (dropout): Dropout(p=0.1, inplace=False)\n",
       "        (layernorm_attention): LayerNorm((128,), eps=1e-05, elementwise_affine=True)\n",
       "        (layernorm_feedforward): LayerNorm((128,), eps=1e-05, elementwise_affine=True)\n",
       "      )\n",
       "    )\n",
       "  )\n",
       "  (projection_head): Linear(in_features=128, out_features=1, bias=True)\n",
       ")"
      ]
     },
     "execution_count": 70,
     "metadata": {},
     "output_type": "execute_result"
    }
   ],
   "source": [
    "pretrain_base_pth = \"../outputs/pretrainlocal/mask_50_1/epoch=80.ckpt\"\n",
    "pretrained=transformer_autoencoder.TransformerAutoEncoder.load_from_checkpoint(pretrain_base_pth)\n",
    "pretrained.eval()"
   ]
  },
  {
   "cell_type": "code",
   "execution_count": 71,
   "metadata": {},
   "outputs": [
    {
     "name": "stderr",
     "output_type": "stream",
     "text": [
      "/Users/A117870943/anaconda3/envs/telco_ai/lib/python3.8/site-packages/sklearn/linear_model/_logistic.py:460: ConvergenceWarning: lbfgs failed to converge (status=1):\n",
      "STOP: TOTAL NO. of ITERATIONS REACHED LIMIT.\n",
      "\n",
      "Increase the number of iterations (max_iter) or scale the data as shown in:\n",
      "    https://scikit-learn.org/stable/modules/preprocessing.html\n",
      "Please also refer to the documentation for alternative solver options:\n",
      "    https://scikit-learn.org/stable/modules/linear_model.html#logistic-regression\n",
      "  n_iter_i = _check_optimize_result(\n"
     ]
    },
    {
     "name": "stdout",
     "output_type": "stream",
     "text": [
      "-----0% noise-----\n",
      "AUC: 0.5646135265700483\n",
      "F1: 0.28571428571428575\n",
      "AP: 0.3312633547008547\n",
      "Accuracy: 0.7265625\n"
     ]
    },
    {
     "name": "stderr",
     "output_type": "stream",
     "text": [
      "/Users/A117870943/anaconda3/envs/telco_ai/lib/python3.8/site-packages/sklearn/linear_model/_logistic.py:460: ConvergenceWarning: lbfgs failed to converge (status=1):\n",
      "STOP: TOTAL NO. of ITERATIONS REACHED LIMIT.\n",
      "\n",
      "Increase the number of iterations (max_iter) or scale the data as shown in:\n",
      "    https://scikit-learn.org/stable/modules/preprocessing.html\n",
      "Please also refer to the documentation for alternative solver options:\n",
      "    https://scikit-learn.org/stable/modules/linear_model.html#logistic-regression\n",
      "  n_iter_i = _check_optimize_result(\n"
     ]
    },
    {
     "name": "stdout",
     "output_type": "stream",
     "text": [
      "-----10% noise-----\n",
      "AUC: 0.5984299516908212\n",
      "F1: 0.3859649122807018\n",
      "AP: 0.3553654100529101\n",
      "Accuracy: 0.7265625\n"
     ]
    },
    {
     "name": "stderr",
     "output_type": "stream",
     "text": [
      "/Users/A117870943/anaconda3/envs/telco_ai/lib/python3.8/site-packages/sklearn/linear_model/_logistic.py:460: ConvergenceWarning: lbfgs failed to converge (status=1):\n",
      "STOP: TOTAL NO. of ITERATIONS REACHED LIMIT.\n",
      "\n",
      "Increase the number of iterations (max_iter) or scale the data as shown in:\n",
      "    https://scikit-learn.org/stable/modules/preprocessing.html\n",
      "Please also refer to the documentation for alternative solver options:\n",
      "    https://scikit-learn.org/stable/modules/linear_model.html#logistic-regression\n",
      "  n_iter_i = _check_optimize_result(\n"
     ]
    },
    {
     "name": "stdout",
     "output_type": "stream",
     "text": [
      "-----20% noise-----\n",
      "AUC: 0.6105072463768116\n",
      "F1: 0.43478260869565216\n",
      "AP: 0.35345643939393934\n",
      "Accuracy: 0.6953125\n"
     ]
    },
    {
     "name": "stderr",
     "output_type": "stream",
     "text": [
      "/Users/A117870943/anaconda3/envs/telco_ai/lib/python3.8/site-packages/sklearn/linear_model/_logistic.py:460: ConvergenceWarning: lbfgs failed to converge (status=1):\n",
      "STOP: TOTAL NO. of ITERATIONS REACHED LIMIT.\n",
      "\n",
      "Increase the number of iterations (max_iter) or scale the data as shown in:\n",
      "    https://scikit-learn.org/stable/modules/preprocessing.html\n",
      "Please also refer to the documentation for alternative solver options:\n",
      "    https://scikit-learn.org/stable/modules/linear_model.html#logistic-regression\n",
      "  n_iter_i = _check_optimize_result(\n"
     ]
    },
    {
     "name": "stdout",
     "output_type": "stream",
     "text": [
      "-----30% noise-----\n",
      "AUC: 0.7028985507246377\n",
      "F1: 0.5714285714285715\n",
      "AP: 0.4270833333333333\n",
      "Accuracy: 0.71875\n"
     ]
    },
    {
     "name": "stderr",
     "output_type": "stream",
     "text": [
      "/Users/A117870943/anaconda3/envs/telco_ai/lib/python3.8/site-packages/sklearn/linear_model/_logistic.py:460: ConvergenceWarning: lbfgs failed to converge (status=1):\n",
      "STOP: TOTAL NO. of ITERATIONS REACHED LIMIT.\n",
      "\n",
      "Increase the number of iterations (max_iter) or scale the data as shown in:\n",
      "    https://scikit-learn.org/stable/modules/preprocessing.html\n",
      "Please also refer to the documentation for alternative solver options:\n",
      "    https://scikit-learn.org/stable/modules/linear_model.html#logistic-regression\n",
      "  n_iter_i = _check_optimize_result(\n"
     ]
    },
    {
     "name": "stdout",
     "output_type": "stream",
     "text": [
      "-----40% noise-----\n",
      "AUC: 0.7101449275362318\n",
      "F1: 0.576923076923077\n",
      "AP: 0.41452205882352944\n",
      "Accuracy: 0.65625\n",
      "-----50% noise-----\n",
      "AUC: 0.6733091787439613\n",
      "F1: 0.5439999999999999\n",
      "AP: 0.37642400124843944\n",
      "Accuracy: 0.5546875\n"
     ]
    },
    {
     "name": "stderr",
     "output_type": "stream",
     "text": [
      "/Users/A117870943/anaconda3/envs/telco_ai/lib/python3.8/site-packages/sklearn/linear_model/_logistic.py:460: ConvergenceWarning: lbfgs failed to converge (status=1):\n",
      "STOP: TOTAL NO. of ITERATIONS REACHED LIMIT.\n",
      "\n",
      "Increase the number of iterations (max_iter) or scale the data as shown in:\n",
      "    https://scikit-learn.org/stable/modules/preprocessing.html\n",
      "Please also refer to the documentation for alternative solver options:\n",
      "    https://scikit-learn.org/stable/modules/linear_model.html#logistic-regression\n",
      "  n_iter_i = _check_optimize_result(\n"
     ]
    }
   ],
   "source": [
    "# Define the device (CPU, GPU, or MPS)\n",
    "device = \"cpu\" #torch.device(\"mps\" if torch.has_mps else \"cuda\" if torch.cuda.is_available() else \"cpu\")\n",
    "\n",
    "msk_rate = \"50\"   \n",
    "df_data = []\n",
    "\n",
    "for i in range(len(noised_list)):\n",
    "    x_raw = tabular_dataset.TabularDataset(noised_base_pth + noise_list[i] + \".csv\", name_labels, features_numerical, features_categorical)\n",
    "    test_raw = tabular_dataset.TabularDataset(test_base_pth, name_labels, features_numerical, features_categorical)\n",
    "    \n",
    "    auc = f1 = ap = accuracy = 0\n",
    "    cnt = 0\n",
    "   \n",
    "    train_generator = torch.utils.data.DataLoader(x_raw, batch_size=128)\n",
    "    test_generator = torch.utils.data.DataLoader(test_raw, batch_size=128)\n",
    "    \n",
    "    # Initialize tensors on the correct device\n",
    "    emb_total = torch.Tensor().to(device)\n",
    "    lab_total = torch.Tensor().to(device)\n",
    "    emb_total_test = torch.Tensor().to(device)\n",
    "    lab_total_test = torch.Tensor().to(device)\n",
    "    \n",
    "    for batch in iter(train_generator):\n",
    "        batch_test = next(iter(test_generator))\n",
    "        cnt += 1\n",
    "        \n",
    "        with torch.no_grad():\n",
    "            # Move tensors to the correct device\n",
    "            x = batch[0].to(device)\n",
    "            labels = batch[1].to(device)\n",
    "            x_test = batch_test[0].to(device)\n",
    "            labels_test = batch_test[1].to(device)\n",
    "            \n",
    "            # Obtain embeddings\n",
    "            emb_per_batch = pretrained(x, 0).to(device)\n",
    "            emb_per_batch = emb_per_batch.view(emb_per_batch.size(0), -1) # properly flattening\n",
    "\n",
    "            emb_per_batch_test = pretrained(x_test, 0).to(device)\n",
    "            emb_per_batch_test = emb_per_batch_test.view(emb_per_batch_test.size(0), -1)\n",
    "\n",
    "            \n",
    "            # Concatenate embeddings and labels\n",
    "            emb_total = torch.cat([emb_total, emb_per_batch])\n",
    "            lab_total = torch.cat([lab_total, labels])\n",
    "            emb_total_test = torch.cat([emb_total_test, emb_per_batch_test])\n",
    "            lab_total_test = torch.cat([lab_total_test, labels_test])\n",
    "    \n",
    "\n",
    "    # Reshape embeddings to 2D\n",
    "    emb_total = emb_total.view(-1, emb_total.size(-1)).cpu().numpy()\n",
    "    lab_total = lab_total.view(-1).cpu().numpy()\n",
    "    emb_total_test = emb_total_test.view(-1, emb_total_test.size(-1)).cpu().numpy()\n",
    "    lab_total_test = lab_total_test.view(-1).cpu().numpy()\n",
    "\n",
    "\n",
    "    # Train logistic regression and evaluate\n",
    "    reg = LogisticRegression().fit(emb_total, lab_total)    \n",
    "    pred = reg.predict(emb_total_test)\n",
    "        \n",
    "    auc_batch = roc_auc_score(lab_total_test, pred)\n",
    "    f1_batch = f1_score(lab_total_test, pred)\n",
    "    ap_batch = average_precision_score(lab_total_test, pred)\n",
    "    accuracy_batch = accuracy_score(lab_total_test, pred)\n",
    "        \n",
    "    auc += auc_batch\n",
    "    f1 += f1_batch\n",
    "    ap += ap_batch\n",
    "    accuracy += accuracy_batch\n",
    "        \n",
    "    print(\"-----\" + noise_list[i] + \"% noise\" + \"-----\")\n",
    "    print(\"AUC: \" + str(auc))\n",
    "    print(\"F1: \" + str(f1))\n",
    "    print(\"AP: \" + str(ap))\n",
    "    print(\"Accuracy: \" + str(accuracy))\n",
    "    \n",
    "    df_data.append([msk_rate, noise_list[i], auc, f1, ap, accuracy])\n",
    "    \n",
    "df = pd.DataFrame(df_data, columns=[\"Masking\", \"Noise\", \"AUC\", \"F1\", \"AP\", \"Accuracy\"])"
   ]
  },
  {
   "cell_type": "markdown",
   "metadata": {},
   "source": [
    "# 50% - 2"
   ]
  },
  {
   "cell_type": "code",
   "execution_count": 72,
   "metadata": {},
   "outputs": [
    {
     "data": {
      "text/html": [
       "<div>\n",
       "<style scoped>\n",
       "    .dataframe tbody tr th:only-of-type {\n",
       "        vertical-align: middle;\n",
       "    }\n",
       "\n",
       "    .dataframe tbody tr th {\n",
       "        vertical-align: top;\n",
       "    }\n",
       "\n",
       "    .dataframe thead th {\n",
       "        text-align: right;\n",
       "    }\n",
       "</style>\n",
       "<table border=\"1\" class=\"dataframe\">\n",
       "  <thead>\n",
       "    <tr style=\"text-align: right;\">\n",
       "      <th></th>\n",
       "      <th>Masking</th>\n",
       "      <th>Noise</th>\n",
       "      <th>AUC</th>\n",
       "      <th>F1</th>\n",
       "      <th>AP</th>\n",
       "      <th>Accuracy</th>\n",
       "    </tr>\n",
       "  </thead>\n",
       "  <tbody>\n",
       "    <tr>\n",
       "      <th>0</th>\n",
       "      <td>50</td>\n",
       "      <td>0</td>\n",
       "      <td>0.564614</td>\n",
       "      <td>0.285714</td>\n",
       "      <td>0.331263</td>\n",
       "      <td>0.726562</td>\n",
       "    </tr>\n",
       "    <tr>\n",
       "      <th>1</th>\n",
       "      <td>50</td>\n",
       "      <td>10</td>\n",
       "      <td>0.598430</td>\n",
       "      <td>0.385965</td>\n",
       "      <td>0.355365</td>\n",
       "      <td>0.726562</td>\n",
       "    </tr>\n",
       "    <tr>\n",
       "      <th>2</th>\n",
       "      <td>50</td>\n",
       "      <td>20</td>\n",
       "      <td>0.610507</td>\n",
       "      <td>0.434783</td>\n",
       "      <td>0.353456</td>\n",
       "      <td>0.695312</td>\n",
       "    </tr>\n",
       "    <tr>\n",
       "      <th>3</th>\n",
       "      <td>50</td>\n",
       "      <td>30</td>\n",
       "      <td>0.702899</td>\n",
       "      <td>0.571429</td>\n",
       "      <td>0.427083</td>\n",
       "      <td>0.718750</td>\n",
       "    </tr>\n",
       "    <tr>\n",
       "      <th>4</th>\n",
       "      <td>50</td>\n",
       "      <td>40</td>\n",
       "      <td>0.710145</td>\n",
       "      <td>0.576923</td>\n",
       "      <td>0.414522</td>\n",
       "      <td>0.656250</td>\n",
       "    </tr>\n",
       "    <tr>\n",
       "      <th>5</th>\n",
       "      <td>50</td>\n",
       "      <td>50</td>\n",
       "      <td>0.673309</td>\n",
       "      <td>0.544000</td>\n",
       "      <td>0.376424</td>\n",
       "      <td>0.554688</td>\n",
       "    </tr>\n",
       "  </tbody>\n",
       "</table>\n",
       "</div>"
      ],
      "text/plain": [
       "  Masking Noise       AUC        F1        AP  Accuracy\n",
       "0      50     0  0.564614  0.285714  0.331263  0.726562\n",
       "1      50    10  0.598430  0.385965  0.355365  0.726562\n",
       "2      50    20  0.610507  0.434783  0.353456  0.695312\n",
       "3      50    30  0.702899  0.571429  0.427083  0.718750\n",
       "4      50    40  0.710145  0.576923  0.414522  0.656250\n",
       "5      50    50  0.673309  0.544000  0.376424  0.554688"
      ]
     },
     "execution_count": 72,
     "metadata": {},
     "output_type": "execute_result"
    }
   ],
   "source": [
    "df.head(10)"
   ]
  },
  {
   "cell_type": "code",
   "execution_count": 73,
   "metadata": {},
   "outputs": [],
   "source": [
    "accuracies = df.Accuracy.to_list()\n",
    "f1_scores = df.F1.to_list()"
   ]
  },
  {
   "cell_type": "code",
   "execution_count": 74,
   "metadata": {},
   "outputs": [
    {
     "data": {
      "image/png": "[encoded data removed]",
      "text/plain": [
       "<Figure size 1200x600 with 2 Axes>"
      ]
     },
     "metadata": {},
     "output_type": "display_data"
    }
   ],
   "source": [
    "\n",
    "# Plot the accuracy and F1 scores\n",
    "percentages = [0,10, 20, 30, 40, 50]\n",
    "plt.figure(figsize=(12, 6))\n",
    "\n",
    "plt.subplot(1, 2, 1)\n",
    "plt.plot(percentages, accuracies, marker='o', label='Accuracy')\n",
    "plt.xlabel('Flip Percentage')\n",
    "plt.ylabel('Accuracy')\n",
    "plt.title('Accuracy vs. Noise Percentage')\n",
    "plt.legend()\n",
    "\n",
    "plt.subplot(1, 2, 2)\n",
    "plt.plot(percentages, f1_scores, marker='o', label='F1 Score', color='orange')\n",
    "plt.xlabel('Flip Percentage')\n",
    "plt.ylabel('F1 Score')\n",
    "plt.title('F1 Score vs. Noise Percentage')\n",
    "plt.legend()\n",
    "\n",
    "plt.tight_layout()\n",
    "plt.show()"
   ]
  },
  {
   "cell_type": "markdown",
   "metadata": {},
   "source": [
    "#### 4.2. Masking Rate = 20%"
   ]
  },
  {
   "cell_type": "code",
   "execution_count": 9,
   "metadata": {},
   "outputs": [
    {
     "data": {
      "text/plain": [
       "TransformerAutoEncoder(\n",
       "  (masker): Masker()\n",
       "  (position_embedding): PositionalEmbedding(\n",
       "    (position_embedding): Embedding(21, 5)\n",
       "  )\n",
       "  (encoder): TransformerEncoder(\n",
       "    (encoder_blocks): ModuleList(\n",
       "      (0-4): 5 x TransformerBlock(\n",
       "        (multihead_attention): MultiheadAttention(\n",
       "          (out_proj): NonDynamicallyQuantizableLinear(in_features=6, out_features=6, bias=True)\n",
       "        )\n",
       "        (feedforward): PositionwiseFeedForward(\n",
       "          (linear_in): Linear(in_features=6, out_features=128, bias=True)\n",
       "          (linear_out): Linear(in_features=128, out_features=6, bias=True)\n",
       "          (dropout): Dropout(p=0.1, inplace=False)\n",
       "        )\n",
       "        (dropout): Dropout(p=0.1, inplace=False)\n",
       "        (layernorm_attention): LayerNorm((6,), eps=1e-05, elementwise_affine=True)\n",
       "        (layernorm_feedforward): LayerNorm((6,), eps=1e-05, elementwise_affine=True)\n",
       "      )\n",
       "    )\n",
       "  )\n",
       "  (decoder): TransformerDecoder(\n",
       "    (decoder_blocks): ModuleList(\n",
       "      (0-2): 3 x TransformerBlock(\n",
       "        (multihead_attention): MultiheadAttention(\n",
       "          (out_proj): NonDynamicallyQuantizableLinear(in_features=6, out_features=6, bias=True)\n",
       "        )\n",
       "        (feedforward): PositionwiseFeedForward(\n",
       "          (linear_in): Linear(in_features=6, out_features=128, bias=True)\n",
       "          (linear_out): Linear(in_features=128, out_features=6, bias=True)\n",
       "          (dropout): Dropout(p=0.1, inplace=False)\n",
       "        )\n",
       "        (dropout): Dropout(p=0.1, inplace=False)\n",
       "        (layernorm_attention): LayerNorm((6,), eps=1e-05, elementwise_affine=True)\n",
       "        (layernorm_feedforward): LayerNorm((6,), eps=1e-05, elementwise_affine=True)\n",
       "      )\n",
       "    )\n",
       "  )\n",
       "  (projection_head): Linear(in_features=6, out_features=1, bias=True)\n",
       ")"
      ]
     },
     "execution_count": 9,
     "metadata": {},
     "output_type": "execute_result"
    }
   ],
   "source": [
    "pretrain_base_pth = \"../outputs/pretrainlocal/mask_20/mask_20.ckpt\"\n",
    "pretrained=transformer_autoencoder.TransformerAutoEncoder.load_from_checkpoint(pretrain_base_pth)\n",
    "pretrained.eval()"
   ]
  },
  {
   "cell_type": "code",
   "execution_count": 12,
   "metadata": {},
   "outputs": [
    {
     "name": "stderr",
     "output_type": "stream",
     "text": [
      "/Users/A117870943/anaconda3/envs/telco_ai/lib/python3.8/site-packages/sklearn/linear_model/_logistic.py:460: ConvergenceWarning: lbfgs failed to converge (status=1):\n",
      "STOP: TOTAL NO. of ITERATIONS REACHED LIMIT.\n",
      "\n",
      "Increase the number of iterations (max_iter) or scale the data as shown in:\n",
      "    https://scikit-learn.org/stable/modules/preprocessing.html\n",
      "Please also refer to the documentation for alternative solver options:\n",
      "    https://scikit-learn.org/stable/modules/linear_model.html#logistic-regression\n",
      "  n_iter_i = _check_optimize_result(\n"
     ]
    },
    {
     "name": "stdout",
     "output_type": "stream",
     "text": [
      "-----0% noise-----\n",
      "AUC: 0.5452898550724637\n",
      "F1: 0.2448979591836735\n",
      "AP: 0.3112980769230769\n",
      "Accuracy: 0.7109375\n"
     ]
    },
    {
     "name": "stderr",
     "output_type": "stream",
     "text": [
      "/Users/A117870943/anaconda3/envs/telco_ai/lib/python3.8/site-packages/sklearn/linear_model/_logistic.py:460: ConvergenceWarning: lbfgs failed to converge (status=1):\n",
      "STOP: TOTAL NO. of ITERATIONS REACHED LIMIT.\n",
      "\n",
      "Increase the number of iterations (max_iter) or scale the data as shown in:\n",
      "    https://scikit-learn.org/stable/modules/preprocessing.html\n",
      "Please also refer to the documentation for alternative solver options:\n",
      "    https://scikit-learn.org/stable/modules/linear_model.html#logistic-regression\n",
      "  n_iter_i = _check_optimize_result(\n"
     ]
    },
    {
     "name": "stdout",
     "output_type": "stream",
     "text": [
      "-----10% noise-----\n",
      "AUC: 0.5929951690821257\n",
      "F1: 0.37931034482758624\n",
      "AP: 0.3480902777777778\n",
      "Accuracy: 0.71875\n"
     ]
    },
    {
     "name": "stderr",
     "output_type": "stream",
     "text": [
      "/Users/A117870943/anaconda3/envs/telco_ai/lib/python3.8/site-packages/sklearn/linear_model/_logistic.py:460: ConvergenceWarning: lbfgs failed to converge (status=1):\n",
      "STOP: TOTAL NO. of ITERATIONS REACHED LIMIT.\n",
      "\n",
      "Increase the number of iterations (max_iter) or scale the data as shown in:\n",
      "    https://scikit-learn.org/stable/modules/preprocessing.html\n",
      "Please also refer to the documentation for alternative solver options:\n",
      "    https://scikit-learn.org/stable/modules/linear_model.html#logistic-regression\n",
      "  n_iter_i = _check_optimize_result(\n"
     ]
    },
    {
     "name": "stdout",
     "output_type": "stream",
     "text": [
      "-----20% noise-----\n",
      "AUC: 0.607487922705314\n",
      "F1: 0.42424242424242425\n",
      "AP: 0.35335648148148147\n",
      "Accuracy: 0.703125\n"
     ]
    },
    {
     "name": "stderr",
     "output_type": "stream",
     "text": [
      "/Users/A117870943/anaconda3/envs/telco_ai/lib/python3.8/site-packages/sklearn/linear_model/_logistic.py:460: ConvergenceWarning: lbfgs failed to converge (status=1):\n",
      "STOP: TOTAL NO. of ITERATIONS REACHED LIMIT.\n",
      "\n",
      "Increase the number of iterations (max_iter) or scale the data as shown in:\n",
      "    https://scikit-learn.org/stable/modules/preprocessing.html\n",
      "Please also refer to the documentation for alternative solver options:\n",
      "    https://scikit-learn.org/stable/modules/linear_model.html#logistic-regression\n",
      "  n_iter_i = _check_optimize_result(\n"
     ]
    },
    {
     "name": "stdout",
     "output_type": "stream",
     "text": [
      "-----30% noise-----\n",
      "AUC: 0.6612318840579711\n",
      "F1: 0.5185185185185186\n",
      "AP: 0.38940972222222225\n",
      "Accuracy: 0.6953125\n"
     ]
    },
    {
     "name": "stderr",
     "output_type": "stream",
     "text": [
      "/Users/A117870943/anaconda3/envs/telco_ai/lib/python3.8/site-packages/sklearn/linear_model/_logistic.py:460: ConvergenceWarning: lbfgs failed to converge (status=1):\n",
      "STOP: TOTAL NO. of ITERATIONS REACHED LIMIT.\n",
      "\n",
      "Increase the number of iterations (max_iter) or scale the data as shown in:\n",
      "    https://scikit-learn.org/stable/modules/preprocessing.html\n",
      "Please also refer to the documentation for alternative solver options:\n",
      "    https://scikit-learn.org/stable/modules/linear_model.html#logistic-regression\n",
      "  n_iter_i = _check_optimize_result(\n"
     ]
    },
    {
     "name": "stdout",
     "output_type": "stream",
     "text": [
      "-----40% noise-----\n",
      "AUC: 0.7016908212560387\n",
      "F1: 0.5686274509803921\n",
      "AP: 0.40864372895622897\n",
      "Accuracy: 0.65625\n",
      "-----50% noise-----\n",
      "AUC: 0.6678743961352657\n",
      "F1: 0.5396825396825397\n",
      "AP: 0.3724151234567901\n",
      "Accuracy: 0.546875\n"
     ]
    },
    {
     "name": "stderr",
     "output_type": "stream",
     "text": [
      "/Users/A117870943/anaconda3/envs/telco_ai/lib/python3.8/site-packages/sklearn/linear_model/_logistic.py:460: ConvergenceWarning: lbfgs failed to converge (status=1):\n",
      "STOP: TOTAL NO. of ITERATIONS REACHED LIMIT.\n",
      "\n",
      "Increase the number of iterations (max_iter) or scale the data as shown in:\n",
      "    https://scikit-learn.org/stable/modules/preprocessing.html\n",
      "Please also refer to the documentation for alternative solver options:\n",
      "    https://scikit-learn.org/stable/modules/linear_model.html#logistic-regression\n",
      "  n_iter_i = _check_optimize_result(\n"
     ]
    }
   ],
   "source": [
    "# Define the device (CPU, GPU, or MPS)\n",
    "device = \"cpu\" #torch.device(\"mps\" if torch.has_mps else \"cuda\" if torch.cuda.is_available() else \"cpu\")\n",
    "\n",
    "msk_rate = \"20\"   \n",
    "df_data = []\n",
    "\n",
    "for i in range(len(noised_list)):\n",
    "    x_raw = tabular_dataset.TabularDataset(noised_base_pth + noise_list[i] + \".csv\", name_labels, features_numerical, features_categorical)\n",
    "    test_raw = tabular_dataset.TabularDataset(test_base_pth, name_labels, features_numerical, features_categorical)\n",
    "    \n",
    "    auc = f1 = ap = accuracy = 0\n",
    "    cnt = 0\n",
    "   \n",
    "    train_generator = torch.utils.data.DataLoader(x_raw, batch_size=128)\n",
    "    test_generator = torch.utils.data.DataLoader(test_raw, batch_size=128)\n",
    "    \n",
    "    # Initialize tensors on the correct device\n",
    "    emb_total = torch.Tensor().to(device)\n",
    "    lab_total = torch.Tensor().to(device)\n",
    "    emb_total_test = torch.Tensor().to(device)\n",
    "    lab_total_test = torch.Tensor().to(device)\n",
    "    \n",
    "    for batch in iter(train_generator):\n",
    "        batch_test = next(iter(test_generator))\n",
    "        cnt += 1\n",
    "        \n",
    "        with torch.no_grad():\n",
    "            # Move tensors to the correct device\n",
    "            x = batch[0].to(device)\n",
    "            labels = batch[1].to(device)\n",
    "            x_test = batch_test[0].to(device)\n",
    "            labels_test = batch_test[1].to(device)\n",
    "            \n",
    "            # Obtain embeddings\n",
    "            emb_per_batch = pretrained(x, 0).to(device)\n",
    "            emb_per_batch = emb_per_batch.view(emb_per_batch.size(0), -1) # properly flattening\n",
    "\n",
    "            emb_per_batch_test = pretrained(x_test, 0).to(device)\n",
    "            emb_per_batch_test = emb_per_batch_test.view(emb_per_batch_test.size(0), -1)\n",
    "\n",
    "            \n",
    "            # Concatenate embeddings and labels\n",
    "            emb_total = torch.cat([emb_total, emb_per_batch])\n",
    "            lab_total = torch.cat([lab_total, labels])\n",
    "            emb_total_test = torch.cat([emb_total_test, emb_per_batch_test])\n",
    "            lab_total_test = torch.cat([lab_total_test, labels_test])\n",
    "    \n",
    "\n",
    "    # Reshape embeddings to 2D\n",
    "    emb_total = emb_total.view(-1, emb_total.size(-1)).cpu().numpy()\n",
    "    lab_total = lab_total.view(-1).cpu().numpy()\n",
    "    emb_total_test = emb_total_test.view(-1, emb_total_test.size(-1)).cpu().numpy()\n",
    "    lab_total_test = lab_total_test.view(-1).cpu().numpy()\n",
    "\n",
    "\n",
    "    # Train logistic regression and evaluate\n",
    "    reg = LogisticRegression().fit(emb_total, lab_total)    \n",
    "    pred = reg.predict(emb_total_test)\n",
    "        \n",
    "    auc_batch = roc_auc_score(lab_total_test, pred)\n",
    "    f1_batch = f1_score(lab_total_test, pred)\n",
    "    ap_batch = average_precision_score(lab_total_test, pred)\n",
    "    accuracy_batch = accuracy_score(lab_total_test, pred)\n",
    "        \n",
    "    auc += auc_batch\n",
    "    f1 += f1_batch\n",
    "    ap += ap_batch\n",
    "    accuracy += accuracy_batch\n",
    "        \n",
    "    print(\"-----\" + noise_list[i] + \"% noise\" + \"-----\")\n",
    "    print(\"AUC: \" + str(auc))\n",
    "    print(\"F1: \" + str(f1))\n",
    "    print(\"AP: \" + str(ap))\n",
    "    print(\"Accuracy: \" + str(accuracy))\n",
    "    \n",
    "    df_data.append([msk_rate, noise_list[i], auc, f1, ap, accuracy])\n",
    "    \n",
    "df = pd.DataFrame(df_data, columns=[\"Masking\", \"Noise\", \"AUC\", \"F1\", \"AP\", \"Accuracy\"])"
   ]
  },
  {
   "cell_type": "markdown",
   "metadata": {},
   "source": [
    "# 20%"
   ]
  },
  {
   "cell_type": "code",
   "execution_count": 13,
   "metadata": {},
   "outputs": [
    {
     "data": {
      "text/html": [
       "<div>\n",
       "<style scoped>\n",
       "    .dataframe tbody tr th:only-of-type {\n",
       "        vertical-align: middle;\n",
       "    }\n",
       "\n",
       "    .dataframe tbody tr th {\n",
       "        vertical-align: top;\n",
       "    }\n",
       "\n",
       "    .dataframe thead th {\n",
       "        text-align: right;\n",
       "    }\n",
       "</style>\n",
       "<table border=\"1\" class=\"dataframe\">\n",
       "  <thead>\n",
       "    <tr style=\"text-align: right;\">\n",
       "      <th></th>\n",
       "      <th>Masking</th>\n",
       "      <th>Noise</th>\n",
       "      <th>AUC</th>\n",
       "      <th>F1</th>\n",
       "      <th>AP</th>\n",
       "      <th>Accuracy</th>\n",
       "    </tr>\n",
       "  </thead>\n",
       "  <tbody>\n",
       "    <tr>\n",
       "      <th>0</th>\n",
       "      <td>20</td>\n",
       "      <td>0</td>\n",
       "      <td>0.545290</td>\n",
       "      <td>0.244898</td>\n",
       "      <td>0.311298</td>\n",
       "      <td>0.710938</td>\n",
       "    </tr>\n",
       "    <tr>\n",
       "      <th>1</th>\n",
       "      <td>20</td>\n",
       "      <td>10</td>\n",
       "      <td>0.592995</td>\n",
       "      <td>0.379310</td>\n",
       "      <td>0.348090</td>\n",
       "      <td>0.718750</td>\n",
       "    </tr>\n",
       "    <tr>\n",
       "      <th>2</th>\n",
       "      <td>20</td>\n",
       "      <td>20</td>\n",
       "      <td>0.607488</td>\n",
       "      <td>0.424242</td>\n",
       "      <td>0.353356</td>\n",
       "      <td>0.703125</td>\n",
       "    </tr>\n",
       "    <tr>\n",
       "      <th>3</th>\n",
       "      <td>20</td>\n",
       "      <td>30</td>\n",
       "      <td>0.661232</td>\n",
       "      <td>0.518519</td>\n",
       "      <td>0.389410</td>\n",
       "      <td>0.695312</td>\n",
       "    </tr>\n",
       "    <tr>\n",
       "      <th>4</th>\n",
       "      <td>20</td>\n",
       "      <td>40</td>\n",
       "      <td>0.701691</td>\n",
       "      <td>0.568627</td>\n",
       "      <td>0.408644</td>\n",
       "      <td>0.656250</td>\n",
       "    </tr>\n",
       "    <tr>\n",
       "      <th>5</th>\n",
       "      <td>20</td>\n",
       "      <td>50</td>\n",
       "      <td>0.667874</td>\n",
       "      <td>0.539683</td>\n",
       "      <td>0.372415</td>\n",
       "      <td>0.546875</td>\n",
       "    </tr>\n",
       "  </tbody>\n",
       "</table>\n",
       "</div>"
      ],
      "text/plain": [
       "  Masking Noise       AUC        F1        AP  Accuracy\n",
       "0      20     0  0.545290  0.244898  0.311298  0.710938\n",
       "1      20    10  0.592995  0.379310  0.348090  0.718750\n",
       "2      20    20  0.607488  0.424242  0.353356  0.703125\n",
       "3      20    30  0.661232  0.518519  0.389410  0.695312\n",
       "4      20    40  0.701691  0.568627  0.408644  0.656250\n",
       "5      20    50  0.667874  0.539683  0.372415  0.546875"
      ]
     },
     "execution_count": 13,
     "metadata": {},
     "output_type": "execute_result"
    }
   ],
   "source": [
    "df.head(10)"
   ]
  },
  {
   "cell_type": "code",
   "execution_count": 14,
   "metadata": {},
   "outputs": [],
   "source": [
    "accuracies = df.Accuracy.to_list()\n",
    "f1_scores = df.F1.to_list()"
   ]
  },
  {
   "cell_type": "code",
   "execution_count": 15,
   "metadata": {},
   "outputs": [
    {
     "data": {
      "image/png": "[encoded data removed]",
      "text/plain": [
       "<Figure size 1200x600 with 2 Axes>"
      ]
     },
     "metadata": {},
     "output_type": "display_data"
    }
   ],
   "source": [
    "\n",
    "# Plot the accuracy and F1 scores\n",
    "percentages = [0,10, 20, 30, 40, 50]\n",
    "plt.figure(figsize=(12, 6))\n",
    "\n",
    "plt.subplot(1, 2, 1)\n",
    "plt.plot(percentages, accuracies, marker='o', label='Accuracy')\n",
    "plt.xlabel('Flip Percentage')\n",
    "plt.ylabel('Accuracy')\n",
    "plt.title('Accuracy vs. Noise Percentage')\n",
    "plt.legend()\n",
    "\n",
    "plt.subplot(1, 2, 2)\n",
    "plt.plot(percentages, f1_scores, marker='o', label='F1 Score', color='orange')\n",
    "plt.xlabel('Flip Percentage')\n",
    "plt.ylabel('F1 Score')\n",
    "plt.title('F1 Score vs. Noise Percentage')\n",
    "plt.legend()\n",
    "\n",
    "plt.tight_layout()\n",
    "plt.show()"
   ]
  },
  {
   "cell_type": "markdown",
   "metadata": {},
   "source": [
    "#### 4.3. Masking Rate = 60%"
   ]
  },
  {
   "cell_type": "code",
   "execution_count": 5,
   "metadata": {},
   "outputs": [
    {
     "data": {
      "text/plain": [
       "TransformerAutoEncoder(\n",
       "  (masker): Masker()\n",
       "  (position_embedding): PositionalEmbedding(\n",
       "    (position_embedding): Embedding(21, 127)\n",
       "  )\n",
       "  (encoder): TransformerEncoder(\n",
       "    (encoder_blocks): ModuleList(\n",
       "      (0-4): 5 x TransformerBlock(\n",
       "        (multihead_attention): MultiheadAttention(\n",
       "          (out_proj): NonDynamicallyQuantizableLinear(in_features=128, out_features=128, bias=True)\n",
       "        )\n",
       "        (feedforward): PositionwiseFeedForward(\n",
       "          (linear_in): Linear(in_features=128, out_features=128, bias=True)\n",
       "          (linear_out): Linear(in_features=128, out_features=128, bias=True)\n",
       "          (dropout): Dropout(p=0.1, inplace=False)\n",
       "        )\n",
       "        (dropout): Dropout(p=0.1, inplace=False)\n",
       "        (layernorm_attention): LayerNorm((128,), eps=1e-05, elementwise_affine=True)\n",
       "        (layernorm_feedforward): LayerNorm((128,), eps=1e-05, elementwise_affine=True)\n",
       "      )\n",
       "    )\n",
       "  )\n",
       "  (decoder): TransformerDecoder(\n",
       "    (decoder_blocks): ModuleList(\n",
       "      (0-2): 3 x TransformerBlock(\n",
       "        (multihead_attention): MultiheadAttention(\n",
       "          (out_proj): NonDynamicallyQuantizableLinear(in_features=128, out_features=128, bias=True)\n",
       "        )\n",
       "        (feedforward): PositionwiseFeedForward(\n",
       "          (linear_in): Linear(in_features=128, out_features=128, bias=True)\n",
       "          (linear_out): Linear(in_features=128, out_features=128, bias=True)\n",
       "          (dropout): Dropout(p=0.1, inplace=False)\n",
       "        )\n",
       "        (dropout): Dropout(p=0.1, inplace=False)\n",
       "        (layernorm_attention): LayerNorm((128,), eps=1e-05, elementwise_affine=True)\n",
       "        (layernorm_feedforward): LayerNorm((128,), eps=1e-05, elementwise_affine=True)\n",
       "      )\n",
       "    )\n",
       "  )\n",
       "  (projection_head): Linear(in_features=128, out_features=1, bias=True)\n",
       ")"
      ]
     },
     "execution_count": 5,
     "metadata": {},
     "output_type": "execute_result"
    }
   ],
   "source": [
    "pretrain_base_pth = \"../outputs/pretrainlocal/mask_60/epoch=58.ckpt\"\n",
    "pretrained=transformer_autoencoder.TransformerAutoEncoder.load_from_checkpoint(pretrain_base_pth)\n",
    "pretrained.eval()"
   ]
  },
  {
   "cell_type": "code",
   "execution_count": 8,
   "metadata": {},
   "outputs": [
    {
     "name": "stderr",
     "output_type": "stream",
     "text": [
      "/Users/A117870943/anaconda3/envs/telco_ai/lib/python3.8/site-packages/sklearn/linear_model/_logistic.py:460: ConvergenceWarning: lbfgs failed to converge (status=1):\n",
      "STOP: TOTAL NO. of ITERATIONS REACHED LIMIT.\n",
      "\n",
      "Increase the number of iterations (max_iter) or scale the data as shown in:\n",
      "    https://scikit-learn.org/stable/modules/preprocessing.html\n",
      "Please also refer to the documentation for alternative solver options:\n",
      "    https://scikit-learn.org/stable/modules/linear_model.html#logistic-regression\n",
      "  n_iter_i = _check_optimize_result(\n"
     ]
    },
    {
     "name": "stdout",
     "output_type": "stream",
     "text": [
      "-----0% noise-----\n",
      "AUC: 0.5452898550724637\n",
      "F1: 0.2448979591836735\n",
      "AP: 0.3112980769230769\n",
      "Accuracy: 0.7109375\n"
     ]
    },
    {
     "name": "stderr",
     "output_type": "stream",
     "text": [
      "/Users/A117870943/anaconda3/envs/telco_ai/lib/python3.8/site-packages/sklearn/linear_model/_logistic.py:460: ConvergenceWarning: lbfgs failed to converge (status=1):\n",
      "STOP: TOTAL NO. of ITERATIONS REACHED LIMIT.\n",
      "\n",
      "Increase the number of iterations (max_iter) or scale the data as shown in:\n",
      "    https://scikit-learn.org/stable/modules/preprocessing.html\n",
      "Please also refer to the documentation for alternative solver options:\n",
      "    https://scikit-learn.org/stable/modules/linear_model.html#logistic-regression\n",
      "  n_iter_i = _check_optimize_result(\n"
     ]
    },
    {
     "name": "stdout",
     "output_type": "stream",
     "text": [
      "-----10% noise-----\n",
      "AUC: 0.5984299516908212\n",
      "F1: 0.3859649122807018\n",
      "AP: 0.3553654100529101\n",
      "Accuracy: 0.7265625\n"
     ]
    },
    {
     "name": "stderr",
     "output_type": "stream",
     "text": [
      "/Users/A117870943/anaconda3/envs/telco_ai/lib/python3.8/site-packages/sklearn/linear_model/_logistic.py:460: ConvergenceWarning: lbfgs failed to converge (status=1):\n",
      "STOP: TOTAL NO. of ITERATIONS REACHED LIMIT.\n",
      "\n",
      "Increase the number of iterations (max_iter) or scale the data as shown in:\n",
      "    https://scikit-learn.org/stable/modules/preprocessing.html\n",
      "Please also refer to the documentation for alternative solver options:\n",
      "    https://scikit-learn.org/stable/modules/linear_model.html#logistic-regression\n",
      "  n_iter_i = _check_optimize_result(\n"
     ]
    },
    {
     "name": "stdout",
     "output_type": "stream",
     "text": [
      "-----20% noise-----\n",
      "AUC: 0.621376811594203\n",
      "F1: 0.44776119402985076\n",
      "AP: 0.36567540322580644\n",
      "Accuracy: 0.7109375\n"
     ]
    },
    {
     "name": "stderr",
     "output_type": "stream",
     "text": [
      "/Users/A117870943/anaconda3/envs/telco_ai/lib/python3.8/site-packages/sklearn/linear_model/_logistic.py:460: ConvergenceWarning: lbfgs failed to converge (status=1):\n",
      "STOP: TOTAL NO. of ITERATIONS REACHED LIMIT.\n",
      "\n",
      "Increase the number of iterations (max_iter) or scale the data as shown in:\n",
      "    https://scikit-learn.org/stable/modules/preprocessing.html\n",
      "Please also refer to the documentation for alternative solver options:\n",
      "    https://scikit-learn.org/stable/modules/linear_model.html#logistic-regression\n",
      "  n_iter_i = _check_optimize_result(\n"
     ]
    },
    {
     "name": "stdout",
     "output_type": "stream",
     "text": [
      "-----30% noise-----\n",
      "AUC: 0.7028985507246377\n",
      "F1: 0.5714285714285715\n",
      "AP: 0.4270833333333333\n",
      "Accuracy: 0.71875\n"
     ]
    },
    {
     "name": "stderr",
     "output_type": "stream",
     "text": [
      "/Users/A117870943/anaconda3/envs/telco_ai/lib/python3.8/site-packages/sklearn/linear_model/_logistic.py:460: ConvergenceWarning: lbfgs failed to converge (status=1):\n",
      "STOP: TOTAL NO. of ITERATIONS REACHED LIMIT.\n",
      "\n",
      "Increase the number of iterations (max_iter) or scale the data as shown in:\n",
      "    https://scikit-learn.org/stable/modules/preprocessing.html\n",
      "Please also refer to the documentation for alternative solver options:\n",
      "    https://scikit-learn.org/stable/modules/linear_model.html#logistic-regression\n",
      "  n_iter_i = _check_optimize_result(\n"
     ]
    },
    {
     "name": "stdout",
     "output_type": "stream",
     "text": [
      "-----40% noise-----\n",
      "AUC: 0.696256038647343\n",
      "F1: 0.5631067961165048\n",
      "AP: 0.4033608001658375\n",
      "Accuracy: 0.6484375\n",
      "-----50% noise-----\n",
      "AUC: 0.6594202898550724\n",
      "F1: 0.5322580645161291\n",
      "AP: 0.3671875\n",
      "Accuracy: 0.546875\n"
     ]
    },
    {
     "name": "stderr",
     "output_type": "stream",
     "text": [
      "/Users/A117870943/anaconda3/envs/telco_ai/lib/python3.8/site-packages/sklearn/linear_model/_logistic.py:460: ConvergenceWarning: lbfgs failed to converge (status=1):\n",
      "STOP: TOTAL NO. of ITERATIONS REACHED LIMIT.\n",
      "\n",
      "Increase the number of iterations (max_iter) or scale the data as shown in:\n",
      "    https://scikit-learn.org/stable/modules/preprocessing.html\n",
      "Please also refer to the documentation for alternative solver options:\n",
      "    https://scikit-learn.org/stable/modules/linear_model.html#logistic-regression\n",
      "  n_iter_i = _check_optimize_result(\n"
     ]
    }
   ],
   "source": [
    "\n",
    "# Define the device (CPU, GPU, or MPS)\n",
    "device = \"cpu\" #torch.device(\"mps\" if torch.has_mps else \"cuda\" if torch.cuda.is_available() else \"cpu\")\n",
    "\n",
    "msk_rate = \"60\"   \n",
    "df_data = []\n",
    "\n",
    "for i in range(len(noised_list)):\n",
    "    x_raw = tabular_dataset.TabularDataset(noised_base_pth + noise_list[i] + \".csv\", name_labels, features_numerical, features_categorical)\n",
    "    test_raw = tabular_dataset.TabularDataset(test_base_pth, name_labels, features_numerical, features_categorical)\n",
    "    \n",
    "    auc = f1 = ap = accuracy = 0\n",
    "    cnt = 0\n",
    "   \n",
    "    train_generator = torch.utils.data.DataLoader(x_raw, batch_size=128)\n",
    "    test_generator = torch.utils.data.DataLoader(test_raw, batch_size=128)\n",
    "    \n",
    "    # Initialize tensors on the correct device\n",
    "    emb_total = torch.Tensor().to(device)\n",
    "    lab_total = torch.Tensor().to(device)\n",
    "    emb_total_test = torch.Tensor().to(device)\n",
    "    lab_total_test = torch.Tensor().to(device)\n",
    "    \n",
    "    for batch in iter(train_generator):\n",
    "        batch_test = next(iter(test_generator))\n",
    "        cnt += 1\n",
    "        \n",
    "        with torch.no_grad():\n",
    "            # Move tensors to the correct device\n",
    "            x = batch[0].to(device)\n",
    "            labels = batch[1].to(device)\n",
    "            x_test = batch_test[0].to(device)\n",
    "            labels_test = batch_test[1].to(device)\n",
    "            \n",
    "            # Obtain embeddings\n",
    "            emb_per_batch = pretrained(x, 0).to(device)\n",
    "            emb_per_batch = emb_per_batch.view(emb_per_batch.size(0), -1) # properly flattening\n",
    "\n",
    "            emb_per_batch_test = pretrained(x_test, 0).to(device)\n",
    "            emb_per_batch_test = emb_per_batch_test.view(emb_per_batch_test.size(0), -1)\n",
    "\n",
    "            \n",
    "            # Concatenate embeddings and labels\n",
    "            emb_total = torch.cat([emb_total, emb_per_batch])\n",
    "            lab_total = torch.cat([lab_total, labels])\n",
    "            emb_total_test = torch.cat([emb_total_test, emb_per_batch_test])\n",
    "            lab_total_test = torch.cat([lab_total_test, labels_test])\n",
    "    \n",
    "\n",
    "    # Reshape embeddings to 2D\n",
    "    emb_total = emb_total.view(-1, emb_total.size(-1)).cpu().numpy()\n",
    "    lab_total = lab_total.view(-1).cpu().numpy()\n",
    "    emb_total_test = emb_total_test.view(-1, emb_total_test.size(-1)).cpu().numpy()\n",
    "    lab_total_test = lab_total_test.view(-1).cpu().numpy()\n",
    "\n",
    "\n",
    "    # Train logistic regression and evaluate\n",
    "    reg = LogisticRegression().fit(emb_total, lab_total)    \n",
    "    pred = reg.predict(emb_total_test)\n",
    "        \n",
    "    auc_batch = roc_auc_score(lab_total_test, pred)\n",
    "    f1_batch = f1_score(lab_total_test, pred)\n",
    "    ap_batch = average_precision_score(lab_total_test, pred)\n",
    "    accuracy_batch = accuracy_score(lab_total_test, pred)\n",
    "        \n",
    "    auc += auc_batch\n",
    "    f1 += f1_batch\n",
    "    ap += ap_batch\n",
    "    accuracy += accuracy_batch\n",
    "        \n",
    "    print(\"-----\" + noise_list[i] + \"% noise\" + \"-----\")\n",
    "    print(\"AUC: \" + str(auc))\n",
    "    print(\"F1: \" + str(f1))\n",
    "    print(\"AP: \" + str(ap))\n",
    "    print(\"Accuracy: \" + str(accuracy))\n",
    "    \n",
    "    df_data.append([msk_rate, noise_list[i], auc, f1, ap, accuracy])\n",
    "    \n",
    "df = pd.DataFrame(df_data, columns=[\"Masking\", \"Noise\", \"AUC\", \"F1\", \"AP\", \"Accuracy\"])"
   ]
  },
  {
   "cell_type": "markdown",
   "metadata": {},
   "source": [
    "# 60%"
   ]
  },
  {
   "cell_type": "code",
   "execution_count": 9,
   "metadata": {},
   "outputs": [
    {
     "data": {
      "text/html": [
       "<div>\n",
       "<style scoped>\n",
       "    .dataframe tbody tr th:only-of-type {\n",
       "        vertical-align: middle;\n",
       "    }\n",
       "\n",
       "    .dataframe tbody tr th {\n",
       "        vertical-align: top;\n",
       "    }\n",
       "\n",
       "    .dataframe thead th {\n",
       "        text-align: right;\n",
       "    }\n",
       "</style>\n",
       "<table border=\"1\" class=\"dataframe\">\n",
       "  <thead>\n",
       "    <tr style=\"text-align: right;\">\n",
       "      <th></th>\n",
       "      <th>Masking</th>\n",
       "      <th>Noise</th>\n",
       "      <th>AUC</th>\n",
       "      <th>F1</th>\n",
       "      <th>AP</th>\n",
       "      <th>Accuracy</th>\n",
       "    </tr>\n",
       "  </thead>\n",
       "  <tbody>\n",
       "    <tr>\n",
       "      <th>0</th>\n",
       "      <td>60</td>\n",
       "      <td>0</td>\n",
       "      <td>0.545290</td>\n",
       "      <td>0.244898</td>\n",
       "      <td>0.311298</td>\n",
       "      <td>0.710938</td>\n",
       "    </tr>\n",
       "    <tr>\n",
       "      <th>1</th>\n",
       "      <td>60</td>\n",
       "      <td>10</td>\n",
       "      <td>0.598430</td>\n",
       "      <td>0.385965</td>\n",
       "      <td>0.355365</td>\n",
       "      <td>0.726562</td>\n",
       "    </tr>\n",
       "    <tr>\n",
       "      <th>2</th>\n",
       "      <td>60</td>\n",
       "      <td>20</td>\n",
       "      <td>0.621377</td>\n",
       "      <td>0.447761</td>\n",
       "      <td>0.365675</td>\n",
       "      <td>0.710938</td>\n",
       "    </tr>\n",
       "    <tr>\n",
       "      <th>3</th>\n",
       "      <td>60</td>\n",
       "      <td>30</td>\n",
       "      <td>0.702899</td>\n",
       "      <td>0.571429</td>\n",
       "      <td>0.427083</td>\n",
       "      <td>0.718750</td>\n",
       "    </tr>\n",
       "    <tr>\n",
       "      <th>4</th>\n",
       "      <td>60</td>\n",
       "      <td>40</td>\n",
       "      <td>0.696256</td>\n",
       "      <td>0.563107</td>\n",
       "      <td>0.403361</td>\n",
       "      <td>0.648438</td>\n",
       "    </tr>\n",
       "    <tr>\n",
       "      <th>5</th>\n",
       "      <td>60</td>\n",
       "      <td>50</td>\n",
       "      <td>0.659420</td>\n",
       "      <td>0.532258</td>\n",
       "      <td>0.367188</td>\n",
       "      <td>0.546875</td>\n",
       "    </tr>\n",
       "  </tbody>\n",
       "</table>\n",
       "</div>"
      ],
      "text/plain": [
       "  Masking Noise       AUC        F1        AP  Accuracy\n",
       "0      60     0  0.545290  0.244898  0.311298  0.710938\n",
       "1      60    10  0.598430  0.385965  0.355365  0.726562\n",
       "2      60    20  0.621377  0.447761  0.365675  0.710938\n",
       "3      60    30  0.702899  0.571429  0.427083  0.718750\n",
       "4      60    40  0.696256  0.563107  0.403361  0.648438\n",
       "5      60    50  0.659420  0.532258  0.367188  0.546875"
      ]
     },
     "execution_count": 9,
     "metadata": {},
     "output_type": "execute_result"
    }
   ],
   "source": [
    "df.head(10)"
   ]
  },
  {
   "cell_type": "code",
   "execution_count": 10,
   "metadata": {},
   "outputs": [],
   "source": [
    "accuracies = df.Accuracy.to_list()\n",
    "f1_scores = df.F1.to_list()"
   ]
  },
  {
   "cell_type": "code",
   "execution_count": 11,
   "metadata": {},
   "outputs": [
    {
     "data": {
      "image/png": "[encoded data removed]",
      "text/plain": [
       "<Figure size 1200x600 with 2 Axes>"
      ]
     },
     "metadata": {},
     "output_type": "display_data"
    }
   ],
   "source": [
    "# Plot the accuracy and F1 scores\n",
    "percentages = [0,10, 20, 30, 40, 50]\n",
    "plt.figure(figsize=(12, 6))\n",
    "\n",
    "plt.subplot(1, 2, 1)\n",
    "plt.plot(percentages, accuracies, marker='o', label='Accuracy')\n",
    "plt.xlabel('Flip Percentage')\n",
    "plt.ylabel('Accuracy')\n",
    "plt.title('Accuracy vs. Noise Percentage')\n",
    "plt.legend()\n",
    "\n",
    "plt.subplot(1, 2, 2)\n",
    "plt.plot(percentages, f1_scores, marker='o', label='F1 Score', color='orange')\n",
    "plt.xlabel('Flip Percentage')\n",
    "plt.ylabel('F1 Score')\n",
    "plt.title('F1 Score vs. Noise Percentage')\n",
    "plt.legend()\n",
    "\n",
    "plt.tight_layout()\n",
    "plt.show()"
   ]
  },
  {
   "cell_type": "markdown",
   "metadata": {},
   "source": [
    "#### 4.4. Masking Rate = 40%"
   ]
  },
  {
   "cell_type": "code",
   "execution_count": 5,
   "metadata": {},
   "outputs": [
    {
     "data": {
      "text/plain": [
       "TransformerAutoEncoder(\n",
       "  (masker): Masker()\n",
       "  (position_embedding): PositionalEmbedding(\n",
       "    (position_embedding): Embedding(21, 127)\n",
       "  )\n",
       "  (encoder): TransformerEncoder(\n",
       "    (encoder_blocks): ModuleList(\n",
       "      (0-4): 5 x TransformerBlock(\n",
       "        (multihead_attention): MultiheadAttention(\n",
       "          (out_proj): NonDynamicallyQuantizableLinear(in_features=128, out_features=128, bias=True)\n",
       "        )\n",
       "        (feedforward): PositionwiseFeedForward(\n",
       "          (linear_in): Linear(in_features=128, out_features=128, bias=True)\n",
       "          (linear_out): Linear(in_features=128, out_features=128, bias=True)\n",
       "          (dropout): Dropout(p=0.1, inplace=False)\n",
       "        )\n",
       "        (dropout): Dropout(p=0.1, inplace=False)\n",
       "        (layernorm_attention): LayerNorm((128,), eps=1e-05, elementwise_affine=True)\n",
       "        (layernorm_feedforward): LayerNorm((128,), eps=1e-05, elementwise_affine=True)\n",
       "      )\n",
       "    )\n",
       "  )\n",
       "  (decoder): TransformerDecoder(\n",
       "    (decoder_blocks): ModuleList(\n",
       "      (0-2): 3 x TransformerBlock(\n",
       "        (multihead_attention): MultiheadAttention(\n",
       "          (out_proj): NonDynamicallyQuantizableLinear(in_features=128, out_features=128, bias=True)\n",
       "        )\n",
       "        (feedforward): PositionwiseFeedForward(\n",
       "          (linear_in): Linear(in_features=128, out_features=128, bias=True)\n",
       "          (linear_out): Linear(in_features=128, out_features=128, bias=True)\n",
       "          (dropout): Dropout(p=0.1, inplace=False)\n",
       "        )\n",
       "        (dropout): Dropout(p=0.1, inplace=False)\n",
       "        (layernorm_attention): LayerNorm((128,), eps=1e-05, elementwise_affine=True)\n",
       "        (layernorm_feedforward): LayerNorm((128,), eps=1e-05, elementwise_affine=True)\n",
       "      )\n",
       "    )\n",
       "  )\n",
       "  (projection_head): Linear(in_features=128, out_features=1, bias=True)\n",
       ")"
      ]
     },
     "execution_count": 5,
     "metadata": {},
     "output_type": "execute_result"
    }
   ],
   "source": [
    "pretrain_base_pth = \"../outputs/pretrainlocal/mask_40/epoch=58.ckpt\"\n",
    "pretrained=transformer_autoencoder.TransformerAutoEncoder.load_from_checkpoint(pretrain_base_pth)\n",
    "pretrained.eval()"
   ]
  },
  {
   "cell_type": "code",
   "execution_count": 6,
   "metadata": {},
   "outputs": [
    {
     "name": "stderr",
     "output_type": "stream",
     "text": [
      "/Users/A117870943/anaconda3/envs/telco_ai/lib/python3.8/site-packages/sklearn/linear_model/_logistic.py:460: ConvergenceWarning: lbfgs failed to converge (status=1):\n",
      "STOP: TOTAL NO. of ITERATIONS REACHED LIMIT.\n",
      "\n",
      "Increase the number of iterations (max_iter) or scale the data as shown in:\n",
      "    https://scikit-learn.org/stable/modules/preprocessing.html\n",
      "Please also refer to the documentation for alternative solver options:\n",
      "    https://scikit-learn.org/stable/modules/linear_model.html#logistic-regression\n",
      "  n_iter_i = _check_optimize_result(\n"
     ]
    },
    {
     "name": "stdout",
     "output_type": "stream",
     "text": [
      "-----0% noise-----\n",
      "AUC: 0.5591787439613526\n",
      "F1: 0.28\n",
      "AP: 0.3237847222222222\n",
      "Accuracy: 0.71875\n"
     ]
    },
    {
     "name": "stderr",
     "output_type": "stream",
     "text": [
      "/Users/A117870943/anaconda3/envs/telco_ai/lib/python3.8/site-packages/sklearn/linear_model/_logistic.py:460: ConvergenceWarning: lbfgs failed to converge (status=1):\n",
      "STOP: TOTAL NO. of ITERATIONS REACHED LIMIT.\n",
      "\n",
      "Increase the number of iterations (max_iter) or scale the data as shown in:\n",
      "    https://scikit-learn.org/stable/modules/preprocessing.html\n",
      "Please also refer to the documentation for alternative solver options:\n",
      "    https://scikit-learn.org/stable/modules/linear_model.html#logistic-regression\n",
      "  n_iter_i = _check_optimize_result(\n"
     ]
    },
    {
     "name": "stdout",
     "output_type": "stream",
     "text": [
      "-----10% noise-----\n",
      "AUC: 0.5821256038647343\n",
      "F1: 0.3666666666666667\n",
      "AP: 0.3353587962962963\n",
      "Accuracy: 0.703125\n"
     ]
    },
    {
     "name": "stderr",
     "output_type": "stream",
     "text": [
      "/Users/A117870943/anaconda3/envs/telco_ai/lib/python3.8/site-packages/sklearn/linear_model/_logistic.py:460: ConvergenceWarning: lbfgs failed to converge (status=1):\n",
      "STOP: TOTAL NO. of ITERATIONS REACHED LIMIT.\n",
      "\n",
      "Increase the number of iterations (max_iter) or scale the data as shown in:\n",
      "    https://scikit-learn.org/stable/modules/preprocessing.html\n",
      "Please also refer to the documentation for alternative solver options:\n",
      "    https://scikit-learn.org/stable/modules/linear_model.html#logistic-regression\n",
      "  n_iter_i = _check_optimize_result(\n"
     ]
    },
    {
     "name": "stdout",
     "output_type": "stream",
     "text": [
      "-----20% noise-----\n",
      "AUC: 0.6219806763285025\n",
      "F1: 0.4594594594594595\n",
      "AP: 0.3596948099415205\n",
      "Accuracy: 0.6875\n"
     ]
    },
    {
     "name": "stderr",
     "output_type": "stream",
     "text": [
      "/Users/A117870943/anaconda3/envs/telco_ai/lib/python3.8/site-packages/sklearn/linear_model/_logistic.py:460: ConvergenceWarning: lbfgs failed to converge (status=1):\n",
      "STOP: TOTAL NO. of ITERATIONS REACHED LIMIT.\n",
      "\n",
      "Increase the number of iterations (max_iter) or scale the data as shown in:\n",
      "    https://scikit-learn.org/stable/modules/preprocessing.html\n",
      "Please also refer to the documentation for alternative solver options:\n",
      "    https://scikit-learn.org/stable/modules/linear_model.html#logistic-regression\n",
      "  n_iter_i = _check_optimize_result(\n"
     ]
    },
    {
     "name": "stdout",
     "output_type": "stream",
     "text": [
      "-----30% noise-----\n",
      "AUC: 0.711352657004831\n",
      "F1: 0.5813953488372093\n",
      "AP: 0.4331597222222222\n",
      "Accuracy: 0.71875\n"
     ]
    },
    {
     "name": "stderr",
     "output_type": "stream",
     "text": [
      "/Users/A117870943/anaconda3/envs/telco_ai/lib/python3.8/site-packages/sklearn/linear_model/_logistic.py:460: ConvergenceWarning: lbfgs failed to converge (status=1):\n",
      "STOP: TOTAL NO. of ITERATIONS REACHED LIMIT.\n",
      "\n",
      "Increase the number of iterations (max_iter) or scale the data as shown in:\n",
      "    https://scikit-learn.org/stable/modules/preprocessing.html\n",
      "Please also refer to the documentation for alternative solver options:\n",
      "    https://scikit-learn.org/stable/modules/linear_model.html#logistic-regression\n",
      "  n_iter_i = _check_optimize_result(\n"
     ]
    },
    {
     "name": "stdout",
     "output_type": "stream",
     "text": [
      "-----40% noise-----\n",
      "AUC: 0.696256038647343\n",
      "F1: 0.5631067961165048\n",
      "AP: 0.4033608001658375\n",
      "Accuracy: 0.6484375\n",
      "-----50% noise-----\n",
      "AUC: 0.6515700483091788\n",
      "F1: 0.5271317829457365\n",
      "AP: 0.36090576463560337\n",
      "Accuracy: 0.5234375\n"
     ]
    },
    {
     "name": "stderr",
     "output_type": "stream",
     "text": [
      "/Users/A117870943/anaconda3/envs/telco_ai/lib/python3.8/site-packages/sklearn/linear_model/_logistic.py:460: ConvergenceWarning: lbfgs failed to converge (status=1):\n",
      "STOP: TOTAL NO. of ITERATIONS REACHED LIMIT.\n",
      "\n",
      "Increase the number of iterations (max_iter) or scale the data as shown in:\n",
      "    https://scikit-learn.org/stable/modules/preprocessing.html\n",
      "Please also refer to the documentation for alternative solver options:\n",
      "    https://scikit-learn.org/stable/modules/linear_model.html#logistic-regression\n",
      "  n_iter_i = _check_optimize_result(\n"
     ]
    }
   ],
   "source": [
    "\n",
    "# Define the device (CPU, GPU, or MPS)\n",
    "device = \"cpu\" #torch.device(\"mps\" if torch.has_mps else \"cuda\" if torch.cuda.is_available() else \"cpu\")\n",
    "\n",
    "msk_rate = \"40\"   \n",
    "df_data = []\n",
    "\n",
    "for i in range(len(noised_list)):\n",
    "    x_raw = tabular_dataset.TabularDataset(noised_base_pth + noise_list[i] + \".csv\", name_labels, features_numerical, features_categorical)\n",
    "    test_raw = tabular_dataset.TabularDataset(test_base_pth, name_labels, features_numerical, features_categorical)\n",
    "    \n",
    "    auc = f1 = ap = accuracy = 0\n",
    "    cnt = 0\n",
    "   \n",
    "    train_generator = torch.utils.data.DataLoader(x_raw, batch_size=128)\n",
    "    test_generator = torch.utils.data.DataLoader(test_raw, batch_size=128)\n",
    "    \n",
    "    # Initialize tensors on the correct device\n",
    "    emb_total = torch.Tensor().to(device)\n",
    "    lab_total = torch.Tensor().to(device)\n",
    "    emb_total_test = torch.Tensor().to(device)\n",
    "    lab_total_test = torch.Tensor().to(device)\n",
    "    \n",
    "    for batch in iter(train_generator):\n",
    "        batch_test = next(iter(test_generator))\n",
    "        cnt += 1\n",
    "        \n",
    "        with torch.no_grad():\n",
    "            # Move tensors to the correct device\n",
    "            x = batch[0].to(device)\n",
    "            labels = batch[1].to(device)\n",
    "            x_test = batch_test[0].to(device)\n",
    "            labels_test = batch_test[1].to(device)\n",
    "            \n",
    "            # Obtain embeddings\n",
    "            emb_per_batch = pretrained(x, 0).to(device)\n",
    "            emb_per_batch = emb_per_batch.view(emb_per_batch.size(0), -1) # properly flattening\n",
    "\n",
    "            emb_per_batch_test = pretrained(x_test, 0).to(device)\n",
    "            emb_per_batch_test = emb_per_batch_test.view(emb_per_batch_test.size(0), -1)\n",
    "\n",
    "            \n",
    "            # Concatenate embeddings and labels\n",
    "            emb_total = torch.cat([emb_total, emb_per_batch])\n",
    "            lab_total = torch.cat([lab_total, labels])\n",
    "            emb_total_test = torch.cat([emb_total_test, emb_per_batch_test])\n",
    "            lab_total_test = torch.cat([lab_total_test, labels_test])\n",
    "    \n",
    "\n",
    "    # Reshape embeddings to 2D\n",
    "    emb_total = emb_total.view(-1, emb_total.size(-1)).cpu().numpy()\n",
    "    lab_total = lab_total.view(-1).cpu().numpy()\n",
    "    emb_total_test = emb_total_test.view(-1, emb_total_test.size(-1)).cpu().numpy()\n",
    "    lab_total_test = lab_total_test.view(-1).cpu().numpy()\n",
    "\n",
    "\n",
    "    # Train logistic regression and evaluate\n",
    "    reg = LogisticRegression().fit(emb_total, lab_total)    \n",
    "    pred = reg.predict(emb_total_test)\n",
    "        \n",
    "    auc_batch = roc_auc_score(lab_total_test, pred)\n",
    "    f1_batch = f1_score(lab_total_test, pred)\n",
    "    ap_batch = average_precision_score(lab_total_test, pred)\n",
    "    accuracy_batch = accuracy_score(lab_total_test, pred)\n",
    "        \n",
    "    auc += auc_batch\n",
    "    f1 += f1_batch\n",
    "    ap += ap_batch\n",
    "    accuracy += accuracy_batch\n",
    "        \n",
    "    print(\"-----\" + noise_list[i] + \"% noise\" + \"-----\")\n",
    "    print(\"AUC: \" + str(auc))\n",
    "    print(\"F1: \" + str(f1))\n",
    "    print(\"AP: \" + str(ap))\n",
    "    print(\"Accuracy: \" + str(accuracy))\n",
    "    \n",
    "    df_data.append([msk_rate, noise_list[i], auc, f1, ap, accuracy])\n",
    "    \n",
    "df = pd.DataFrame(df_data, columns=[\"Masking\", \"Noise\", \"AUC\", \"F1\", \"AP\", \"Accuracy\"])"
   ]
  },
  {
   "cell_type": "markdown",
   "metadata": {},
   "source": [
    "# 40%"
   ]
  },
  {
   "cell_type": "code",
   "execution_count": 7,
   "metadata": {},
   "outputs": [
    {
     "data": {
      "text/html": [
       "<div>\n",
       "<style scoped>\n",
       "    .dataframe tbody tr th:only-of-type {\n",
       "        vertical-align: middle;\n",
       "    }\n",
       "\n",
       "    .dataframe tbody tr th {\n",
       "        vertical-align: top;\n",
       "    }\n",
       "\n",
       "    .dataframe thead th {\n",
       "        text-align: right;\n",
       "    }\n",
       "</style>\n",
       "<table border=\"1\" class=\"dataframe\">\n",
       "  <thead>\n",
       "    <tr style=\"text-align: right;\">\n",
       "      <th></th>\n",
       "      <th>Masking</th>\n",
       "      <th>Noise</th>\n",
       "      <th>AUC</th>\n",
       "      <th>F1</th>\n",
       "      <th>AP</th>\n",
       "      <th>Accuracy</th>\n",
       "    </tr>\n",
       "  </thead>\n",
       "  <tbody>\n",
       "    <tr>\n",
       "      <th>0</th>\n",
       "      <td>40</td>\n",
       "      <td>0</td>\n",
       "      <td>0.559179</td>\n",
       "      <td>0.280000</td>\n",
       "      <td>0.323785</td>\n",
       "      <td>0.718750</td>\n",
       "    </tr>\n",
       "    <tr>\n",
       "      <th>1</th>\n",
       "      <td>40</td>\n",
       "      <td>10</td>\n",
       "      <td>0.582126</td>\n",
       "      <td>0.366667</td>\n",
       "      <td>0.335359</td>\n",
       "      <td>0.703125</td>\n",
       "    </tr>\n",
       "    <tr>\n",
       "      <th>2</th>\n",
       "      <td>40</td>\n",
       "      <td>20</td>\n",
       "      <td>0.621981</td>\n",
       "      <td>0.459459</td>\n",
       "      <td>0.359695</td>\n",
       "      <td>0.687500</td>\n",
       "    </tr>\n",
       "    <tr>\n",
       "      <th>3</th>\n",
       "      <td>40</td>\n",
       "      <td>30</td>\n",
       "      <td>0.711353</td>\n",
       "      <td>0.581395</td>\n",
       "      <td>0.433160</td>\n",
       "      <td>0.718750</td>\n",
       "    </tr>\n",
       "    <tr>\n",
       "      <th>4</th>\n",
       "      <td>40</td>\n",
       "      <td>40</td>\n",
       "      <td>0.696256</td>\n",
       "      <td>0.563107</td>\n",
       "      <td>0.403361</td>\n",
       "      <td>0.648438</td>\n",
       "    </tr>\n",
       "    <tr>\n",
       "      <th>5</th>\n",
       "      <td>40</td>\n",
       "      <td>50</td>\n",
       "      <td>0.651570</td>\n",
       "      <td>0.527132</td>\n",
       "      <td>0.360906</td>\n",
       "      <td>0.523438</td>\n",
       "    </tr>\n",
       "  </tbody>\n",
       "</table>\n",
       "</div>"
      ],
      "text/plain": [
       "  Masking Noise       AUC        F1        AP  Accuracy\n",
       "0      40     0  0.559179  0.280000  0.323785  0.718750\n",
       "1      40    10  0.582126  0.366667  0.335359  0.703125\n",
       "2      40    20  0.621981  0.459459  0.359695  0.687500\n",
       "3      40    30  0.711353  0.581395  0.433160  0.718750\n",
       "4      40    40  0.696256  0.563107  0.403361  0.648438\n",
       "5      40    50  0.651570  0.527132  0.360906  0.523438"
      ]
     },
     "execution_count": 7,
     "metadata": {},
     "output_type": "execute_result"
    }
   ],
   "source": [
    "df.head(10)"
   ]
  },
  {
   "cell_type": "code",
   "execution_count": 8,
   "metadata": {},
   "outputs": [],
   "source": [
    "accuracies = df.Accuracy.to_list()\n",
    "f1_scores = df.F1.to_list()"
   ]
  },
  {
   "cell_type": "code",
   "execution_count": 9,
   "metadata": {},
   "outputs": [
    {
     "data": {
      "image/png": "[encoded data removed]",
      "text/plain": [
       "<Figure size 1200x600 with 2 Axes>"
      ]
     },
     "metadata": {},
     "output_type": "display_data"
    }
   ],
   "source": [
    "# Plot the accuracy and F1 scores\n",
    "percentages = [0,10, 20, 30, 40, 50]\n",
    "plt.figure(figsize=(12, 6))\n",
    "\n",
    "plt.subplot(1, 2, 1)\n",
    "plt.plot(percentages, accuracies, marker='o', label='Accuracy')\n",
    "plt.xlabel('Flip Percentage')\n",
    "plt.ylabel('Accuracy')\n",
    "plt.title('Accuracy vs. Noise Percentage')\n",
    "plt.legend()\n",
    "\n",
    "plt.subplot(1, 2, 2)\n",
    "plt.plot(percentages, f1_scores, marker='o', label='F1 Score', color='orange')\n",
    "plt.xlabel('Flip Percentage')\n",
    "plt.ylabel('F1 Score')\n",
    "plt.title('F1 Score vs. Noise Percentage')\n",
    "plt.legend()\n",
    "\n",
    "plt.tight_layout()\n",
    "plt.show()"
   ]
  },
  {
   "cell_type": "code",
   "execution_count": null,
   "metadata": {},
   "outputs": [],
   "source": []
  }
 ],
 "metadata": {
  "kernelspec": {
   "display_name": "Python 3 (ipykernel)",
   "language": "python",
   "name": "python3"
  },
  "language_info": {
   "codemirror_mode": {
    "name": "ipython",
    "version": 3
   },
   "file_extension": ".py",
   "mimetype": "text/x-python",
   "name": "python",
   "nbconvert_exporter": "python",
   "pygments_lexer": "ipython3",
   "version": "3.8.19"
  }
 },
 "nbformat": 4,
 "nbformat_minor": 4
}
