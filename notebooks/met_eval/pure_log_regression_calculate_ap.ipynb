{
 "cells": [
  {
   "cell_type": "markdown",
   "metadata": {},
   "source": [
    "### Load Data"
   ]
  },
  {
   "cell_type": "code",
   "execution_count": 14,
   "metadata": {},
   "outputs": [],
   "source": [
    "import pandas as pd\n",
    "import os\n",
    "noise = ['0','10','20','30','40','50']\n",
    "denoised_base_pth = \"..\\\\..\\\\data\\\\sample\\\\train\\\\scaled\\\\denoised\\\\train_flipped_labels_\"\n",
    "noised_base_pth = \"..\\\\..\\\\data\\\\sample\\\\train\\\\scaled\\\\train_flipped_labels_\"\n",
    "test = pd.read_csv(\"..\\\\..\\\\data\\\\sample\\\\test\\\\scaled\\\\test_scaled.csv\")\n",
    "denoised_list =[]\n",
    "noised_list=[]\n",
    "for i in range(len(noise)):\n",
    "    denoised_list.append(pd.read_csv(denoised_base_pth+noise[i]+\".csv\"))\n",
    "    noised_list.append(pd.read_csv(noised_base_pth+noise[i]+\".csv\"))\n"
   ]
  },
  {
   "cell_type": "markdown",
   "metadata": {},
   "source": [
    "### Load Scikit-Learn Logistic regression"
   ]
  },
  {
   "cell_type": "code",
   "execution_count": 58,
   "metadata": {},
   "outputs": [
    {
     "name": "stdout",
     "output_type": "stream",
     "text": [
      "-----0% noise-----\n",
      "AUC: 0.6495884306761784\n",
      "F1: 0.5422956698732705\n",
      "AP: 0.39976688621271816\n",
      "-----10% noise-----\n",
      "AUC: 0.6427255787360325\n",
      "F1: 0.5367851010434553\n",
      "AP: 0.3938437557635409\n",
      "-----20% noise-----\n",
      "AUC: 0.6327851336765689\n",
      "F1: 0.5269148683898506\n",
      "AP: 0.38646333582274184\n",
      "-----30% noise-----\n",
      "AUC: 0.6236777532027509\n",
      "F1: 0.5198448224410623\n",
      "AP: 0.3794206719444761\n",
      "-----40% noise-----\n",
      "AUC: 0.6076190795489155\n",
      "F1: 0.5079175380938153\n",
      "AP: 0.3679135993394334\n",
      "-----50% noise-----\n",
      "AUC: 0.5910893185542783\n",
      "F1: 0.493717926030791\n",
      "AP: 0.35734255752339616\n"
     ]
    }
   ],
   "source": [
    "from sklearn.linear_model import LogisticRegression\n",
    "from sklearn.ensemble import RandomForestClassifier\n",
    "from sklearn.metrics import roc_auc_score,f1_score,average_precision_score\n",
    "test_x = test.iloc[:,:-1]\n",
    "test_labels =test.iloc[:,-1]\n",
    "\n",
    "for i in range(len(noise)):\n",
    "    print(\"-----\"+noise[i]+\"% noise\"+\"-----\")\n",
    "    #df = denoised_list[i]\n",
    "    #df= df.groupby(\"label\").count()[\"label_flip\"]\n",
    "    #print(df)\n",
    "    df=df_healthy=df_unhealthy=filtered_healthy=filtered_unhealthy=filtered_df=df_denoised=x=labels=None\n",
    "    \n",
    "    df = noised_list[i].copy()\n",
    "    df_healthy = df.loc[df[\"label_flip\"]==0]\n",
    "    df_unhealthy = df.loc[df[\"label_flip\"]==1]\n",
    "    filtered_healthy = df_healthy.sample(n=7000)\n",
    "    filtered_unhealthy = df_unhealthy.sample(n=7000)\n",
    "    filtered_df = pd.concat([filtered_healthy,filtered_unhealthy])\n",
    "    #print(filtered_df.groupby([\"label\",\"label_flip\"]).count()[\"f_0\"])\n",
    "    #print(filtered_df.loc[filtered_df[\"label_flip\"]==0])\n",
    "    df_denoised = filtered_df.sample(frac=1).reset_index(drop=True)\n",
    "    x=df_denoised.drop([\"label\",\"label_flip\"],axis=1)\n",
    "    labels = df_denoised[\"label_flip\"]\n",
    "    \n",
    "    \n",
    "    \n",
    "    x_noisy = noised_list[i].iloc[:,:-2]\n",
    "    #print(x.columns)\n",
    "    #print(x.shape)\n",
    "    noisy_labels = noised_list[i][\"label_flip\"]\n",
    "    \n",
    "    reg = None\n",
    "    #reg = LogisticRegression(penalty=None).fit(x,labels)\n",
    "    #pred = reg.predict(test_x)\n",
    "    forest = RandomForestClassifier(max_depth=5,random_state=0).fit(x,labels)\n",
    "    #print(forest.feature_importances_)\n",
    "    pred =forest.predict(x_noisy)\n",
    "    #\n",
    "    auc = roc_auc_score(noisy_labels,pred)\n",
    "    f1 = f1_score(noisy_labels,pred)\n",
    "    ap = average_precision_score(noisy_labels,pred)\n",
    "    \n",
    "    print(\"AUC: \"+str(auc))\n",
    "    print(\"F1: \"+str(f1))\n",
    "    print(\"AP: \"+str(ap))\n",
    "    \n",
    " \n",
    "\n",
    "\n"
   ]
  },
  {
   "cell_type": "code",
   "execution_count": 26,
   "metadata": {},
   "outputs": [
    {
     "name": "stdout",
     "output_type": "stream",
     "text": [
      "-----0% noise-----\n",
      "AUC: 0.565643432074626\n",
      "F1: 0.301065308012969\n",
      "AP: 0.366133799218187\n",
      "-----10% noise-----\n",
      "AUC: 0.5599926801621471\n",
      "F1: 0.27522935779816515\n",
      "AP: 0.3633544416812123\n",
      "-----20% noise-----\n",
      "AUC: 0.5463282423373572\n",
      "F1: 0.21795537104307214\n",
      "AP: 0.3540559454914721\n",
      "-----30% noise-----\n",
      "AUC: 0.5290831190358548\n",
      "F1: 0.14165261382799327\n",
      "AP: 0.3408723242558582\n",
      "-----40% noise-----\n",
      "AUC: 0.5165877448438555\n",
      "F1: 0.07567567567567568\n",
      "AP: 0.33242809549759195\n",
      "-----50% noise-----\n",
      "AUC: 0.5012909683678964\n",
      "F1: 0.006305170239596469\n",
      "AP: 0.31706182936759253\n"
     ]
    }
   ],
   "source": [
    "from sklearn.linear_model import LogisticRegression\n",
    "from sklearn.metrics import roc_auc_score,f1_score,average_precision_score\n",
    "\n",
    "test_x = test.iloc[:,:-1]\n",
    "test_labels =test.iloc[:,-1]\n",
    "\n",
    "for i in range(len(noise)):\n",
    "    x = noised_list[i].iloc[:,:-2]\n",
    "    labels = noised_list[i][\"label_flip\"]\n",
    "\n",
    "    reg = LogisticRegression().fit(x,labels)\n",
    "    pred = reg.predict(test_x)\n",
    "    auc = roc_auc_score(test_labels,pred)\n",
    "    f1 = f1_score(test_labels,pred)\n",
    "    ap = average_precision_score(test_labels,pred)\n",
    "    print(\"-----\"+noise[i]+\"% noise-----\")\n",
    "    print(\"AUC: \"+str(auc))\n",
    "    print(\"F1: \"+str(f1))\n",
    "    print(\"AP: \"+str(ap))"
   ]
  }
 ],
 "metadata": {
  "kernelspec": {
   "display_name": "pix_playground",
   "language": "python",
   "name": "python3"
  },
  "language_info": {
   "codemirror_mode": {
    "name": "ipython",
    "version": 3
   },
   "file_extension": ".py",
   "mimetype": "text/x-python",
   "name": "python",
   "nbconvert_exporter": "python",
   "pygments_lexer": "ipython3",
   "version": "3.9.19"
  }
 },
 "nbformat": 4,
 "nbformat_minor": 2
}
