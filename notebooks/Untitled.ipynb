{
 "cells": [
  {
   "cell_type": "code",
   "execution_count": 1,
   "id": "e937b96e-06ff-46b0-b6d0-ca8dc8101430",
   "metadata": {
    "tags": []
   },
   "outputs": [],
   "source": [
    "import numpy as np\n",
    "import pandas as pd\n",
    "from sklearn.model_selection import train_test_split"
   ]
  },
  {
   "cell_type": "code",
   "execution_count": 2,
   "id": "bccedd76-a88e-42cf-8110-370e1df83ea5",
   "metadata": {
    "tags": []
   },
   "outputs": [],
   "source": [
    "np.random.seed(42)\n",
    "n_samples = 1000\n",
    "n_features = 20\n",
    "\n",
    "X = np.random.randn(n_samples, n_features)\n",
    "y = np.hstack((np.zeros(int(n_samples * 0.95)), np.ones(int(n_samples * 0.05))))\n",
    "\n",
    "# Create unique identifiers\n",
    "ids = np.arange(n_samples)\n",
    "\n",
    "df = pd.DataFrame(X, columns=[f'feature_{i}' for i in range(n_features)])\n",
    "df['label'] = y\n",
    "df['id'] = ids"
   ]
  },
  {
   "cell_type": "code",
   "execution_count": 3,
   "id": "87b7680b-decb-48ab-b2fb-07d331d9051e",
   "metadata": {
    "tags": []
   },
   "outputs": [],
   "source": [
    "train_df, test_df = train_test_split(df, test_size=0.2, stratify=df['label'], random_state=42)\n",
    "\n",
    "test_set = test_df.reset_index(drop=True)"
   ]
  },
  {
   "cell_type": "code",
   "execution_count": 5,
   "id": "191a3e33-5a30-4c57-a5fa-46f404db7aff",
   "metadata": {
    "tags": []
   },
   "outputs": [
    {
     "data": {
      "text/html": [
       "<div>\n",
       "<style scoped>\n",
       "    .dataframe tbody tr th:only-of-type {\n",
       "        vertical-align: middle;\n",
       "    }\n",
       "\n",
       "    .dataframe tbody tr th {\n",
       "        vertical-align: top;\n",
       "    }\n",
       "\n",
       "    .dataframe thead th {\n",
       "        text-align: right;\n",
       "    }\n",
       "</style>\n",
       "<table border=\"1\" class=\"dataframe\">\n",
       "  <thead>\n",
       "    <tr style=\"text-align: right;\">\n",
       "      <th></th>\n",
       "      <th>feature_0</th>\n",
       "      <th>feature_1</th>\n",
       "      <th>feature_2</th>\n",
       "      <th>feature_3</th>\n",
       "      <th>feature_4</th>\n",
       "      <th>feature_5</th>\n",
       "      <th>feature_6</th>\n",
       "      <th>feature_7</th>\n",
       "      <th>feature_8</th>\n",
       "      <th>feature_9</th>\n",
       "      <th>...</th>\n",
       "      <th>feature_12</th>\n",
       "      <th>feature_13</th>\n",
       "      <th>feature_14</th>\n",
       "      <th>feature_15</th>\n",
       "      <th>feature_16</th>\n",
       "      <th>feature_17</th>\n",
       "      <th>feature_18</th>\n",
       "      <th>feature_19</th>\n",
       "      <th>label</th>\n",
       "      <th>id</th>\n",
       "    </tr>\n",
       "  </thead>\n",
       "  <tbody>\n",
       "    <tr>\n",
       "      <th>834</th>\n",
       "      <td>0.393378</td>\n",
       "      <td>-0.180550</td>\n",
       "      <td>-1.029655</td>\n",
       "      <td>-1.398082</td>\n",
       "      <td>2.597437</td>\n",
       "      <td>-1.129815</td>\n",
       "      <td>-0.518625</td>\n",
       "      <td>0.517000</td>\n",
       "      <td>0.360861</td>\n",
       "      <td>0.520866</td>\n",
       "      <td>...</td>\n",
       "      <td>0.061344</td>\n",
       "      <td>-0.312131</td>\n",
       "      <td>0.245410</td>\n",
       "      <td>1.055366</td>\n",
       "      <td>-0.022200</td>\n",
       "      <td>-0.015547</td>\n",
       "      <td>1.068161</td>\n",
       "      <td>0.961360</td>\n",
       "      <td>0.0</td>\n",
       "      <td>834</td>\n",
       "    </tr>\n",
       "    <tr>\n",
       "      <th>73</th>\n",
       "      <td>-0.138456</td>\n",
       "      <td>-1.224298</td>\n",
       "      <td>-0.209023</td>\n",
       "      <td>-0.850520</td>\n",
       "      <td>-0.580523</td>\n",
       "      <td>0.588578</td>\n",
       "      <td>1.669905</td>\n",
       "      <td>0.394672</td>\n",
       "      <td>-1.195883</td>\n",
       "      <td>0.444603</td>\n",
       "      <td>...</td>\n",
       "      <td>-0.134017</td>\n",
       "      <td>0.014688</td>\n",
       "      <td>-0.784898</td>\n",
       "      <td>0.648280</td>\n",
       "      <td>-0.120948</td>\n",
       "      <td>0.419532</td>\n",
       "      <td>-0.887492</td>\n",
       "      <td>-0.437458</td>\n",
       "      <td>0.0</td>\n",
       "      <td>73</td>\n",
       "    </tr>\n",
       "    <tr>\n",
       "      <th>790</th>\n",
       "      <td>-1.476230</td>\n",
       "      <td>0.444875</td>\n",
       "      <td>0.642121</td>\n",
       "      <td>-0.759652</td>\n",
       "      <td>-1.023734</td>\n",
       "      <td>1.017174</td>\n",
       "      <td>-0.990861</td>\n",
       "      <td>-0.606664</td>\n",
       "      <td>0.887309</td>\n",
       "      <td>0.034741</td>\n",
       "      <td>...</td>\n",
       "      <td>-0.530011</td>\n",
       "      <td>-0.402757</td>\n",
       "      <td>0.255784</td>\n",
       "      <td>0.625077</td>\n",
       "      <td>1.961104</td>\n",
       "      <td>-1.660068</td>\n",
       "      <td>0.825952</td>\n",
       "      <td>0.743010</td>\n",
       "      <td>0.0</td>\n",
       "      <td>790</td>\n",
       "    </tr>\n",
       "    <tr>\n",
       "      <th>144</th>\n",
       "      <td>-2.238231</td>\n",
       "      <td>-2.120700</td>\n",
       "      <td>-0.606865</td>\n",
       "      <td>0.457687</td>\n",
       "      <td>-2.747505</td>\n",
       "      <td>-0.499730</td>\n",
       "      <td>-0.526248</td>\n",
       "      <td>1.388338</td>\n",
       "      <td>-0.385022</td>\n",
       "      <td>0.382989</td>\n",
       "      <td>...</td>\n",
       "      <td>0.768207</td>\n",
       "      <td>0.215397</td>\n",
       "      <td>0.508269</td>\n",
       "      <td>3.926238</td>\n",
       "      <td>-2.084113</td>\n",
       "      <td>1.724697</td>\n",
       "      <td>-0.287448</td>\n",
       "      <td>0.287329</td>\n",
       "      <td>0.0</td>\n",
       "      <td>144</td>\n",
       "    </tr>\n",
       "    <tr>\n",
       "      <th>169</th>\n",
       "      <td>2.165056</td>\n",
       "      <td>1.190549</td>\n",
       "      <td>0.212574</td>\n",
       "      <td>1.026986</td>\n",
       "      <td>1.105900</td>\n",
       "      <td>-0.563947</td>\n",
       "      <td>-0.816217</td>\n",
       "      <td>0.078143</td>\n",
       "      <td>0.861636</td>\n",
       "      <td>0.139060</td>\n",
       "      <td>...</td>\n",
       "      <td>-0.073973</td>\n",
       "      <td>-0.075666</td>\n",
       "      <td>1.972542</td>\n",
       "      <td>-1.385988</td>\n",
       "      <td>0.505589</td>\n",
       "      <td>1.489113</td>\n",
       "      <td>2.271450</td>\n",
       "      <td>-0.404397</td>\n",
       "      <td>0.0</td>\n",
       "      <td>169</td>\n",
       "    </tr>\n",
       "  </tbody>\n",
       "</table>\n",
       "<p>5 rows × 22 columns</p>\n",
       "</div>"
      ],
      "text/plain": [
       "     feature_0  feature_1  feature_2  feature_3  feature_4  feature_5  \\\n",
       "834   0.393378  -0.180550  -1.029655  -1.398082   2.597437  -1.129815   \n",
       "73   -0.138456  -1.224298  -0.209023  -0.850520  -0.580523   0.588578   \n",
       "790  -1.476230   0.444875   0.642121  -0.759652  -1.023734   1.017174   \n",
       "144  -2.238231  -2.120700  -0.606865   0.457687  -2.747505  -0.499730   \n",
       "169   2.165056   1.190549   0.212574   1.026986   1.105900  -0.563947   \n",
       "\n",
       "     feature_6  feature_7  feature_8  feature_9  ...  feature_12  feature_13  \\\n",
       "834  -0.518625   0.517000   0.360861   0.520866  ...    0.061344   -0.312131   \n",
       "73    1.669905   0.394672  -1.195883   0.444603  ...   -0.134017    0.014688   \n",
       "790  -0.990861  -0.606664   0.887309   0.034741  ...   -0.530011   -0.402757   \n",
       "144  -0.526248   1.388338  -0.385022   0.382989  ...    0.768207    0.215397   \n",
       "169  -0.816217   0.078143   0.861636   0.139060  ...   -0.073973   -0.075666   \n",
       "\n",
       "     feature_14  feature_15  feature_16  feature_17  feature_18  feature_19  \\\n",
       "834    0.245410    1.055366   -0.022200   -0.015547    1.068161    0.961360   \n",
       "73    -0.784898    0.648280   -0.120948    0.419532   -0.887492   -0.437458   \n",
       "790    0.255784    0.625077    1.961104   -1.660068    0.825952    0.743010   \n",
       "144    0.508269    3.926238   -2.084113    1.724697   -0.287448    0.287329   \n",
       "169    1.972542   -1.385988    0.505589    1.489113    2.271450   -0.404397   \n",
       "\n",
       "     label   id  \n",
       "834    0.0  834  \n",
       "73     0.0   73  \n",
       "790    0.0  790  \n",
       "144    0.0  144  \n",
       "169    0.0  169  \n",
       "\n",
       "[5 rows x 22 columns]"
      ]
     },
     "execution_count": 5,
     "metadata": {},
     "output_type": "execute_result"
    }
   ],
   "source": [
    "train_df.head()"
   ]
  },
  {
   "cell_type": "code",
   "execution_count": 4,
   "id": "84b16a5f-7bd0-4210-abe8-aa3b6e05f8b4",
   "metadata": {
    "tags": []
   },
   "outputs": [
    {
     "name": "stdout",
     "output_type": "stream",
     "text": [
      "Datasets generated and saved successfully.\n"
     ]
    }
   ],
   "source": [
    "# multiple training datasets with different masking percentages\n",
    "masking_percentages = [5, 10, 25, 35, 50]\n",
    "\n",
    "for percentage in masking_percentages:\n",
    "    train_masked_df = train_df.copy()\n",
    "    mask = np.random.rand(*train_masked_df.drop(columns=['label', 'id']).shape) > (percentage / 100.0)\n",
    "    train_masked_df.iloc[:, :-2] = train_masked_df.iloc[:, :-2].where(mask, float('nan'))\n",
    "    \n",
    "    # Reset the index and save the dataset\n",
    "    train_masked_df = train_masked_df.reset_index(drop=True)\n",
    "    train_masked_df.to_csv(f'train_masked_{percentage}.csv', index=False)\n",
    "    \n",
    "# write the datasets\n",
    "test_set = test_set.reset_index(drop=True)\n",
    "test_set.to_csv('test_set.csv', index=False)\n",
    "\n",
    "print(\"Datasets generated and saved successfully.\")"
   ]
  },
  {
   "cell_type": "code",
   "execution_count": 6,
   "id": "12a84dcd-5b86-4e08-9bb0-64e03f3dd5ca",
   "metadata": {
    "tags": []
   },
   "outputs": [
    {
     "data": {
      "text/html": [
       "<div>\n",
       "<style scoped>\n",
       "    .dataframe tbody tr th:only-of-type {\n",
       "        vertical-align: middle;\n",
       "    }\n",
       "\n",
       "    .dataframe tbody tr th {\n",
       "        vertical-align: top;\n",
       "    }\n",
       "\n",
       "    .dataframe thead th {\n",
       "        text-align: right;\n",
       "    }\n",
       "</style>\n",
       "<table border=\"1\" class=\"dataframe\">\n",
       "  <thead>\n",
       "    <tr style=\"text-align: right;\">\n",
       "      <th></th>\n",
       "      <th>feature_0</th>\n",
       "      <th>feature_1</th>\n",
       "      <th>feature_2</th>\n",
       "      <th>feature_3</th>\n",
       "      <th>feature_4</th>\n",
       "      <th>feature_5</th>\n",
       "      <th>feature_6</th>\n",
       "      <th>feature_7</th>\n",
       "      <th>feature_8</th>\n",
       "      <th>feature_9</th>\n",
       "      <th>...</th>\n",
       "      <th>feature_12</th>\n",
       "      <th>feature_13</th>\n",
       "      <th>feature_14</th>\n",
       "      <th>feature_15</th>\n",
       "      <th>feature_16</th>\n",
       "      <th>feature_17</th>\n",
       "      <th>feature_18</th>\n",
       "      <th>feature_19</th>\n",
       "      <th>label</th>\n",
       "      <th>id</th>\n",
       "    </tr>\n",
       "  </thead>\n",
       "  <tbody>\n",
       "    <tr>\n",
       "      <th>0</th>\n",
       "      <td>0.393378</td>\n",
       "      <td>NaN</td>\n",
       "      <td>-1.029655</td>\n",
       "      <td>-1.398082</td>\n",
       "      <td>NaN</td>\n",
       "      <td>-1.129815</td>\n",
       "      <td>-0.518625</td>\n",
       "      <td>0.517000</td>\n",
       "      <td>0.360861</td>\n",
       "      <td>0.520866</td>\n",
       "      <td>...</td>\n",
       "      <td>NaN</td>\n",
       "      <td>-0.312131</td>\n",
       "      <td>NaN</td>\n",
       "      <td>NaN</td>\n",
       "      <td>-0.022200</td>\n",
       "      <td>NaN</td>\n",
       "      <td>1.068161</td>\n",
       "      <td>NaN</td>\n",
       "      <td>0.0</td>\n",
       "      <td>834</td>\n",
       "    </tr>\n",
       "    <tr>\n",
       "      <th>1</th>\n",
       "      <td>NaN</td>\n",
       "      <td>-1.224298</td>\n",
       "      <td>NaN</td>\n",
       "      <td>-0.850520</td>\n",
       "      <td>-0.580523</td>\n",
       "      <td>0.588578</td>\n",
       "      <td>1.669905</td>\n",
       "      <td>0.394672</td>\n",
       "      <td>-1.195883</td>\n",
       "      <td>NaN</td>\n",
       "      <td>...</td>\n",
       "      <td>-0.134017</td>\n",
       "      <td>0.014688</td>\n",
       "      <td>-0.784898</td>\n",
       "      <td>0.648280</td>\n",
       "      <td>NaN</td>\n",
       "      <td>0.419532</td>\n",
       "      <td>-0.887492</td>\n",
       "      <td>NaN</td>\n",
       "      <td>0.0</td>\n",
       "      <td>73</td>\n",
       "    </tr>\n",
       "    <tr>\n",
       "      <th>2</th>\n",
       "      <td>NaN</td>\n",
       "      <td>0.444875</td>\n",
       "      <td>NaN</td>\n",
       "      <td>NaN</td>\n",
       "      <td>-1.023734</td>\n",
       "      <td>NaN</td>\n",
       "      <td>-0.990861</td>\n",
       "      <td>NaN</td>\n",
       "      <td>NaN</td>\n",
       "      <td>0.034741</td>\n",
       "      <td>...</td>\n",
       "      <td>-0.530011</td>\n",
       "      <td>-0.402757</td>\n",
       "      <td>NaN</td>\n",
       "      <td>0.625077</td>\n",
       "      <td>NaN</td>\n",
       "      <td>NaN</td>\n",
       "      <td>NaN</td>\n",
       "      <td>NaN</td>\n",
       "      <td>0.0</td>\n",
       "      <td>790</td>\n",
       "    </tr>\n",
       "    <tr>\n",
       "      <th>3</th>\n",
       "      <td>NaN</td>\n",
       "      <td>-2.120700</td>\n",
       "      <td>-0.606865</td>\n",
       "      <td>NaN</td>\n",
       "      <td>NaN</td>\n",
       "      <td>-0.499730</td>\n",
       "      <td>NaN</td>\n",
       "      <td>NaN</td>\n",
       "      <td>NaN</td>\n",
       "      <td>0.382989</td>\n",
       "      <td>...</td>\n",
       "      <td>0.768207</td>\n",
       "      <td>0.215397</td>\n",
       "      <td>0.508269</td>\n",
       "      <td>NaN</td>\n",
       "      <td>-2.084113</td>\n",
       "      <td>1.724697</td>\n",
       "      <td>NaN</td>\n",
       "      <td>0.287329</td>\n",
       "      <td>0.0</td>\n",
       "      <td>144</td>\n",
       "    </tr>\n",
       "    <tr>\n",
       "      <th>4</th>\n",
       "      <td>2.165056</td>\n",
       "      <td>1.190549</td>\n",
       "      <td>NaN</td>\n",
       "      <td>1.026986</td>\n",
       "      <td>NaN</td>\n",
       "      <td>NaN</td>\n",
       "      <td>NaN</td>\n",
       "      <td>NaN</td>\n",
       "      <td>NaN</td>\n",
       "      <td>NaN</td>\n",
       "      <td>...</td>\n",
       "      <td>-0.073973</td>\n",
       "      <td>NaN</td>\n",
       "      <td>NaN</td>\n",
       "      <td>NaN</td>\n",
       "      <td>NaN</td>\n",
       "      <td>1.489113</td>\n",
       "      <td>NaN</td>\n",
       "      <td>NaN</td>\n",
       "      <td>0.0</td>\n",
       "      <td>169</td>\n",
       "    </tr>\n",
       "  </tbody>\n",
       "</table>\n",
       "<p>5 rows × 22 columns</p>\n",
       "</div>"
      ],
      "text/plain": [
       "   feature_0  feature_1  feature_2  feature_3  feature_4  feature_5  \\\n",
       "0   0.393378        NaN  -1.029655  -1.398082        NaN  -1.129815   \n",
       "1        NaN  -1.224298        NaN  -0.850520  -0.580523   0.588578   \n",
       "2        NaN   0.444875        NaN        NaN  -1.023734        NaN   \n",
       "3        NaN  -2.120700  -0.606865        NaN        NaN  -0.499730   \n",
       "4   2.165056   1.190549        NaN   1.026986        NaN        NaN   \n",
       "\n",
       "   feature_6  feature_7  feature_8  feature_9  ...  feature_12  feature_13  \\\n",
       "0  -0.518625   0.517000   0.360861   0.520866  ...         NaN   -0.312131   \n",
       "1   1.669905   0.394672  -1.195883        NaN  ...   -0.134017    0.014688   \n",
       "2  -0.990861        NaN        NaN   0.034741  ...   -0.530011   -0.402757   \n",
       "3        NaN        NaN        NaN   0.382989  ...    0.768207    0.215397   \n",
       "4        NaN        NaN        NaN        NaN  ...   -0.073973         NaN   \n",
       "\n",
       "   feature_14  feature_15  feature_16  feature_17  feature_18  feature_19  \\\n",
       "0         NaN         NaN   -0.022200         NaN    1.068161         NaN   \n",
       "1   -0.784898    0.648280         NaN    0.419532   -0.887492         NaN   \n",
       "2         NaN    0.625077         NaN         NaN         NaN         NaN   \n",
       "3    0.508269         NaN   -2.084113    1.724697         NaN    0.287329   \n",
       "4         NaN         NaN         NaN    1.489113         NaN         NaN   \n",
       "\n",
       "   label   id  \n",
       "0    0.0  834  \n",
       "1    0.0   73  \n",
       "2    0.0  790  \n",
       "3    0.0  144  \n",
       "4    0.0  169  \n",
       "\n",
       "[5 rows x 22 columns]"
      ]
     },
     "execution_count": 6,
     "metadata": {},
     "output_type": "execute_result"
    }
   ],
   "source": [
    "train_masked_df.head()"
   ]
  },
  {
   "cell_type": "code",
   "execution_count": null,
   "id": "8318a4a1-061f-458d-ae5c-718f1223c06e",
   "metadata": {},
   "outputs": [],
   "source": []
  },
  {
   "cell_type": "code",
   "execution_count": null,
   "id": "0caa0032-58e6-4db6-9f12-83bc99681e21",
   "metadata": {},
   "outputs": [],
   "source": []
  },
  {
   "cell_type": "code",
   "execution_count": 7,
   "id": "1f48b085-35eb-4e58-b193-b0f2eb58d01f",
   "metadata": {},
   "outputs": [],
   "source": [
    "import os\n",
    "import pandas as pd"
   ]
  },
  {
   "cell_type": "code",
   "execution_count": 9,
   "id": "21e4985e-a79a-43eb-8cb8-67c0294cd80a",
   "metadata": {
    "tags": []
   },
   "outputs": [],
   "source": [
    "data = pd.read_csv('/Users/A117870943/Documents/DT/Innovation/archive/AIDS_Classification_15000.csv')"
   ]
  },
  {
   "cell_type": "code",
   "execution_count": 11,
   "id": "712f6cd1-1c3c-4329-9e28-02587ceb3061",
   "metadata": {
    "tags": []
   },
   "outputs": [
    {
     "data": {
      "text/plain": [
       "(15000, 23)"
      ]
     },
     "execution_count": 11,
     "metadata": {},
     "output_type": "execute_result"
    }
   ],
   "source": [
    "data.shape"
   ]
  },
  {
   "cell_type": "code",
   "execution_count": 10,
   "id": "e0bfa387-b5f8-48be-ba6f-fbe45750c21a",
   "metadata": {
    "tags": []
   },
   "outputs": [
    {
     "data": {
      "text/html": [
       "<div>\n",
       "<style scoped>\n",
       "    .dataframe tbody tr th:only-of-type {\n",
       "        vertical-align: middle;\n",
       "    }\n",
       "\n",
       "    .dataframe tbody tr th {\n",
       "        vertical-align: top;\n",
       "    }\n",
       "\n",
       "    .dataframe thead th {\n",
       "        text-align: right;\n",
       "    }\n",
       "</style>\n",
       "<table border=\"1\" class=\"dataframe\">\n",
       "  <thead>\n",
       "    <tr style=\"text-align: right;\">\n",
       "      <th></th>\n",
       "      <th>time</th>\n",
       "      <th>trt</th>\n",
       "      <th>age</th>\n",
       "      <th>wtkg</th>\n",
       "      <th>hemo</th>\n",
       "      <th>homo</th>\n",
       "      <th>drugs</th>\n",
       "      <th>karnof</th>\n",
       "      <th>oprior</th>\n",
       "      <th>z30</th>\n",
       "      <th>...</th>\n",
       "      <th>str2</th>\n",
       "      <th>strat</th>\n",
       "      <th>symptom</th>\n",
       "      <th>treat</th>\n",
       "      <th>offtrt</th>\n",
       "      <th>cd40</th>\n",
       "      <th>cd420</th>\n",
       "      <th>cd80</th>\n",
       "      <th>cd820</th>\n",
       "      <th>infected</th>\n",
       "    </tr>\n",
       "  </thead>\n",
       "  <tbody>\n",
       "    <tr>\n",
       "      <th>0</th>\n",
       "      <td>1108</td>\n",
       "      <td>1</td>\n",
       "      <td>37</td>\n",
       "      <td>88.11364</td>\n",
       "      <td>0</td>\n",
       "      <td>1</td>\n",
       "      <td>1</td>\n",
       "      <td>100</td>\n",
       "      <td>0</td>\n",
       "      <td>1</td>\n",
       "      <td>...</td>\n",
       "      <td>1</td>\n",
       "      <td>1</td>\n",
       "      <td>0</td>\n",
       "      <td>0</td>\n",
       "      <td>0</td>\n",
       "      <td>389</td>\n",
       "      <td>320</td>\n",
       "      <td>734</td>\n",
       "      <td>737</td>\n",
       "      <td>1</td>\n",
       "    </tr>\n",
       "    <tr>\n",
       "      <th>1</th>\n",
       "      <td>1079</td>\n",
       "      <td>0</td>\n",
       "      <td>43</td>\n",
       "      <td>66.77075</td>\n",
       "      <td>0</td>\n",
       "      <td>0</td>\n",
       "      <td>0</td>\n",
       "      <td>100</td>\n",
       "      <td>0</td>\n",
       "      <td>1</td>\n",
       "      <td>...</td>\n",
       "      <td>0</td>\n",
       "      <td>2</td>\n",
       "      <td>0</td>\n",
       "      <td>1</td>\n",
       "      <td>1</td>\n",
       "      <td>318</td>\n",
       "      <td>432</td>\n",
       "      <td>912</td>\n",
       "      <td>1213</td>\n",
       "      <td>0</td>\n",
       "    </tr>\n",
       "    <tr>\n",
       "      <th>2</th>\n",
       "      <td>492</td>\n",
       "      <td>1</td>\n",
       "      <td>34</td>\n",
       "      <td>82.91725</td>\n",
       "      <td>0</td>\n",
       "      <td>0</td>\n",
       "      <td>0</td>\n",
       "      <td>90</td>\n",
       "      <td>0</td>\n",
       "      <td>1</td>\n",
       "      <td>...</td>\n",
       "      <td>1</td>\n",
       "      <td>2</td>\n",
       "      <td>0</td>\n",
       "      <td>1</td>\n",
       "      <td>1</td>\n",
       "      <td>326</td>\n",
       "      <td>524</td>\n",
       "      <td>660</td>\n",
       "      <td>835</td>\n",
       "      <td>0</td>\n",
       "    </tr>\n",
       "    <tr>\n",
       "      <th>3</th>\n",
       "      <td>1191</td>\n",
       "      <td>1</td>\n",
       "      <td>41</td>\n",
       "      <td>98.91817</td>\n",
       "      <td>0</td>\n",
       "      <td>0</td>\n",
       "      <td>0</td>\n",
       "      <td>81</td>\n",
       "      <td>0</td>\n",
       "      <td>1</td>\n",
       "      <td>...</td>\n",
       "      <td>1</td>\n",
       "      <td>3</td>\n",
       "      <td>0</td>\n",
       "      <td>1</td>\n",
       "      <td>0</td>\n",
       "      <td>318</td>\n",
       "      <td>232</td>\n",
       "      <td>1131</td>\n",
       "      <td>982</td>\n",
       "      <td>1</td>\n",
       "    </tr>\n",
       "    <tr>\n",
       "      <th>4</th>\n",
       "      <td>1141</td>\n",
       "      <td>3</td>\n",
       "      <td>47</td>\n",
       "      <td>53.61717</td>\n",
       "      <td>0</td>\n",
       "      <td>1</td>\n",
       "      <td>0</td>\n",
       "      <td>100</td>\n",
       "      <td>0</td>\n",
       "      <td>0</td>\n",
       "      <td>...</td>\n",
       "      <td>0</td>\n",
       "      <td>1</td>\n",
       "      <td>0</td>\n",
       "      <td>1</td>\n",
       "      <td>0</td>\n",
       "      <td>280</td>\n",
       "      <td>337</td>\n",
       "      <td>515</td>\n",
       "      <td>679</td>\n",
       "      <td>0</td>\n",
       "    </tr>\n",
       "  </tbody>\n",
       "</table>\n",
       "<p>5 rows × 23 columns</p>\n",
       "</div>"
      ],
      "text/plain": [
       "   time  trt  age      wtkg  hemo  homo  drugs  karnof  oprior  z30  ...  \\\n",
       "0  1108    1   37  88.11364     0     1      1     100       0    1  ...   \n",
       "1  1079    0   43  66.77075     0     0      0     100       0    1  ...   \n",
       "2   492    1   34  82.91725     0     0      0      90       0    1  ...   \n",
       "3  1191    1   41  98.91817     0     0      0      81       0    1  ...   \n",
       "4  1141    3   47  53.61717     0     1      0     100       0    0  ...   \n",
       "\n",
       "   str2  strat  symptom  treat  offtrt  cd40  cd420  cd80  cd820  infected  \n",
       "0     1      1        0      0       0   389    320   734    737         1  \n",
       "1     0      2        0      1       1   318    432   912   1213         0  \n",
       "2     1      2        0      1       1   326    524   660    835         0  \n",
       "3     1      3        0      1       0   318    232  1131    982         1  \n",
       "4     0      1        0      1       0   280    337   515    679         0  \n",
       "\n",
       "[5 rows x 23 columns]"
      ]
     },
     "execution_count": 10,
     "metadata": {},
     "output_type": "execute_result"
    }
   ],
   "source": [
    "data.head()"
   ]
  },
  {
   "cell_type": "code",
   "execution_count": 12,
   "id": "bdf5cc81-acfb-46a0-b68a-a73c0ba90927",
   "metadata": {
    "tags": []
   },
   "outputs": [
    {
     "data": {
      "text/plain": [
       "Index(['time', 'trt', 'age', 'wtkg', 'hemo', 'homo', 'drugs', 'karnof',\n",
       "       'oprior', 'z30', 'preanti', 'race', 'gender', 'str2', 'strat',\n",
       "       'symptom', 'treat', 'offtrt', 'cd40', 'cd420', 'cd80', 'cd820',\n",
       "       'infected'],\n",
       "      dtype='object')"
      ]
     },
     "execution_count": 12,
     "metadata": {},
     "output_type": "execute_result"
    }
   ],
   "source": [
    "data.columns"
   ]
  },
  {
   "cell_type": "code",
   "execution_count": 13,
   "id": "9ec51938-cf11-403c-bc4f-37bd2568445e",
   "metadata": {
    "tags": []
   },
   "outputs": [],
   "source": [
    "data.rename(columns={'infected':'label'}, inplace=True)"
   ]
  },
  {
   "cell_type": "code",
   "execution_count": 15,
   "id": "85dd4446-8914-4875-8dfa-a89e75e9d669",
   "metadata": {
    "tags": []
   },
   "outputs": [],
   "source": [
    "cols = data.columns[1:-1]"
   ]
  },
  {
   "cell_type": "code",
   "execution_count": 18,
   "id": "67d06e0a-7786-409b-8340-c6f3fd1c1e46",
   "metadata": {
    "tags": []
   },
   "outputs": [],
   "source": [
    "for idx,col in enumerate(cols):\n",
    "    data.rename(columns={col:'f_'+str(idx)},inplace=True)"
   ]
  },
  {
   "cell_type": "code",
   "execution_count": 19,
   "id": "9a884191-e034-4657-83ba-1d1a1d29feb0",
   "metadata": {
    "tags": []
   },
   "outputs": [
    {
     "data": {
      "text/html": [
       "<div>\n",
       "<style scoped>\n",
       "    .dataframe tbody tr th:only-of-type {\n",
       "        vertical-align: middle;\n",
       "    }\n",
       "\n",
       "    .dataframe tbody tr th {\n",
       "        vertical-align: top;\n",
       "    }\n",
       "\n",
       "    .dataframe thead th {\n",
       "        text-align: right;\n",
       "    }\n",
       "</style>\n",
       "<table border=\"1\" class=\"dataframe\">\n",
       "  <thead>\n",
       "    <tr style=\"text-align: right;\">\n",
       "      <th></th>\n",
       "      <th>time</th>\n",
       "      <th>f_0</th>\n",
       "      <th>f_1</th>\n",
       "      <th>f_2</th>\n",
       "      <th>f_3</th>\n",
       "      <th>f_4</th>\n",
       "      <th>f_5</th>\n",
       "      <th>f_6</th>\n",
       "      <th>f_7</th>\n",
       "      <th>f_8</th>\n",
       "      <th>...</th>\n",
       "      <th>f_12</th>\n",
       "      <th>f_13</th>\n",
       "      <th>f_14</th>\n",
       "      <th>f_15</th>\n",
       "      <th>f_16</th>\n",
       "      <th>f_17</th>\n",
       "      <th>f_18</th>\n",
       "      <th>f_19</th>\n",
       "      <th>f_20</th>\n",
       "      <th>label</th>\n",
       "    </tr>\n",
       "  </thead>\n",
       "  <tbody>\n",
       "    <tr>\n",
       "      <th>0</th>\n",
       "      <td>1108</td>\n",
       "      <td>1</td>\n",
       "      <td>37</td>\n",
       "      <td>88.11364</td>\n",
       "      <td>0</td>\n",
       "      <td>1</td>\n",
       "      <td>1</td>\n",
       "      <td>100</td>\n",
       "      <td>0</td>\n",
       "      <td>1</td>\n",
       "      <td>...</td>\n",
       "      <td>1</td>\n",
       "      <td>1</td>\n",
       "      <td>0</td>\n",
       "      <td>0</td>\n",
       "      <td>0</td>\n",
       "      <td>389</td>\n",
       "      <td>320</td>\n",
       "      <td>734</td>\n",
       "      <td>737</td>\n",
       "      <td>1</td>\n",
       "    </tr>\n",
       "    <tr>\n",
       "      <th>1</th>\n",
       "      <td>1079</td>\n",
       "      <td>0</td>\n",
       "      <td>43</td>\n",
       "      <td>66.77075</td>\n",
       "      <td>0</td>\n",
       "      <td>0</td>\n",
       "      <td>0</td>\n",
       "      <td>100</td>\n",
       "      <td>0</td>\n",
       "      <td>1</td>\n",
       "      <td>...</td>\n",
       "      <td>0</td>\n",
       "      <td>2</td>\n",
       "      <td>0</td>\n",
       "      <td>1</td>\n",
       "      <td>1</td>\n",
       "      <td>318</td>\n",
       "      <td>432</td>\n",
       "      <td>912</td>\n",
       "      <td>1213</td>\n",
       "      <td>0</td>\n",
       "    </tr>\n",
       "    <tr>\n",
       "      <th>2</th>\n",
       "      <td>492</td>\n",
       "      <td>1</td>\n",
       "      <td>34</td>\n",
       "      <td>82.91725</td>\n",
       "      <td>0</td>\n",
       "      <td>0</td>\n",
       "      <td>0</td>\n",
       "      <td>90</td>\n",
       "      <td>0</td>\n",
       "      <td>1</td>\n",
       "      <td>...</td>\n",
       "      <td>1</td>\n",
       "      <td>2</td>\n",
       "      <td>0</td>\n",
       "      <td>1</td>\n",
       "      <td>1</td>\n",
       "      <td>326</td>\n",
       "      <td>524</td>\n",
       "      <td>660</td>\n",
       "      <td>835</td>\n",
       "      <td>0</td>\n",
       "    </tr>\n",
       "    <tr>\n",
       "      <th>3</th>\n",
       "      <td>1191</td>\n",
       "      <td>1</td>\n",
       "      <td>41</td>\n",
       "      <td>98.91817</td>\n",
       "      <td>0</td>\n",
       "      <td>0</td>\n",
       "      <td>0</td>\n",
       "      <td>81</td>\n",
       "      <td>0</td>\n",
       "      <td>1</td>\n",
       "      <td>...</td>\n",
       "      <td>1</td>\n",
       "      <td>3</td>\n",
       "      <td>0</td>\n",
       "      <td>1</td>\n",
       "      <td>0</td>\n",
       "      <td>318</td>\n",
       "      <td>232</td>\n",
       "      <td>1131</td>\n",
       "      <td>982</td>\n",
       "      <td>1</td>\n",
       "    </tr>\n",
       "    <tr>\n",
       "      <th>4</th>\n",
       "      <td>1141</td>\n",
       "      <td>3</td>\n",
       "      <td>47</td>\n",
       "      <td>53.61717</td>\n",
       "      <td>0</td>\n",
       "      <td>1</td>\n",
       "      <td>0</td>\n",
       "      <td>100</td>\n",
       "      <td>0</td>\n",
       "      <td>0</td>\n",
       "      <td>...</td>\n",
       "      <td>0</td>\n",
       "      <td>1</td>\n",
       "      <td>0</td>\n",
       "      <td>1</td>\n",
       "      <td>0</td>\n",
       "      <td>280</td>\n",
       "      <td>337</td>\n",
       "      <td>515</td>\n",
       "      <td>679</td>\n",
       "      <td>0</td>\n",
       "    </tr>\n",
       "  </tbody>\n",
       "</table>\n",
       "<p>5 rows × 23 columns</p>\n",
       "</div>"
      ],
      "text/plain": [
       "   time  f_0  f_1       f_2  f_3  f_4  f_5  f_6  f_7  f_8  ...  f_12  f_13  \\\n",
       "0  1108    1   37  88.11364    0    1    1  100    0    1  ...     1     1   \n",
       "1  1079    0   43  66.77075    0    0    0  100    0    1  ...     0     2   \n",
       "2   492    1   34  82.91725    0    0    0   90    0    1  ...     1     2   \n",
       "3  1191    1   41  98.91817    0    0    0   81    0    1  ...     1     3   \n",
       "4  1141    3   47  53.61717    0    1    0  100    0    0  ...     0     1   \n",
       "\n",
       "   f_14  f_15  f_16  f_17  f_18  f_19  f_20  label  \n",
       "0     0     0     0   389   320   734   737      1  \n",
       "1     0     1     1   318   432   912  1213      0  \n",
       "2     0     1     1   326   524   660   835      0  \n",
       "3     0     1     0   318   232  1131   982      1  \n",
       "4     0     1     0   280   337   515   679      0  \n",
       "\n",
       "[5 rows x 23 columns]"
      ]
     },
     "execution_count": 19,
     "metadata": {},
     "output_type": "execute_result"
    }
   ],
   "source": [
    "data.head()"
   ]
  },
  {
   "cell_type": "code",
   "execution_count": 20,
   "id": "0d494141-4684-4798-98f2-5092528171f8",
   "metadata": {
    "tags": []
   },
   "outputs": [],
   "source": [
    "data.drop('time',axis=1,inplace=True)"
   ]
  },
  {
   "cell_type": "code",
   "execution_count": 31,
   "id": "c65d312e-68cf-4a33-8527-4112402b28b1",
   "metadata": {
    "tags": []
   },
   "outputs": [
    {
     "data": {
      "text/plain": [
       "label\n",
       "0    0.691267\n",
       "1    0.308733\n",
       "Name: count, dtype: float64"
      ]
     },
     "execution_count": 31,
     "metadata": {},
     "output_type": "execute_result"
    }
   ],
   "source": [
    "data.label.value_counts()/data.shape[0]"
   ]
  },
  {
   "cell_type": "code",
   "execution_count": 23,
   "id": "7476110a-b4f2-47d8-9633-3e28d7aa6a33",
   "metadata": {
    "tags": []
   },
   "outputs": [],
   "source": [
    "import random"
   ]
  },
  {
   "cell_type": "code",
   "execution_count": 33,
   "id": "df3eae7d-3d73-43d1-8d4f-ce9ecf588dca",
   "metadata": {
    "tags": []
   },
   "outputs": [],
   "source": [
    "def flip_generator(item,prob):\n",
    "    \n",
    "    random_num = random.uniform(0, 1)\n",
    "    if (item['label']==1) & (random_num>prob):\n",
    "        item['label_flip']=0 \n",
    "        \n",
    "    return item"
   ]
  },
  {
   "cell_type": "code",
   "execution_count": 27,
   "id": "e664ac6b-fcee-4bfa-8c3b-c88a5e4a095a",
   "metadata": {
    "tags": []
   },
   "outputs": [
    {
     "data": {
      "text/html": [
       "<div>\n",
       "<style scoped>\n",
       "    .dataframe tbody tr th:only-of-type {\n",
       "        vertical-align: middle;\n",
       "    }\n",
       "\n",
       "    .dataframe tbody tr th {\n",
       "        vertical-align: top;\n",
       "    }\n",
       "\n",
       "    .dataframe thead th {\n",
       "        text-align: right;\n",
       "    }\n",
       "</style>\n",
       "<table border=\"1\" class=\"dataframe\">\n",
       "  <thead>\n",
       "    <tr style=\"text-align: right;\">\n",
       "      <th></th>\n",
       "      <th>f_0</th>\n",
       "      <th>f_1</th>\n",
       "      <th>f_2</th>\n",
       "      <th>f_3</th>\n",
       "      <th>f_4</th>\n",
       "      <th>f_5</th>\n",
       "      <th>f_6</th>\n",
       "      <th>f_7</th>\n",
       "      <th>f_8</th>\n",
       "      <th>f_9</th>\n",
       "      <th>...</th>\n",
       "      <th>f_12</th>\n",
       "      <th>f_13</th>\n",
       "      <th>f_14</th>\n",
       "      <th>f_15</th>\n",
       "      <th>f_16</th>\n",
       "      <th>f_17</th>\n",
       "      <th>f_18</th>\n",
       "      <th>f_19</th>\n",
       "      <th>f_20</th>\n",
       "      <th>label</th>\n",
       "    </tr>\n",
       "  </thead>\n",
       "  <tbody>\n",
       "    <tr>\n",
       "      <th>0</th>\n",
       "      <td>1.0</td>\n",
       "      <td>37.0</td>\n",
       "      <td>88.11364</td>\n",
       "      <td>0.0</td>\n",
       "      <td>1.0</td>\n",
       "      <td>1.0</td>\n",
       "      <td>100.0</td>\n",
       "      <td>0.0</td>\n",
       "      <td>1.0</td>\n",
       "      <td>169.0</td>\n",
       "      <td>...</td>\n",
       "      <td>1.0</td>\n",
       "      <td>1.0</td>\n",
       "      <td>0.0</td>\n",
       "      <td>0.0</td>\n",
       "      <td>0.0</td>\n",
       "      <td>389.0</td>\n",
       "      <td>320.0</td>\n",
       "      <td>734.0</td>\n",
       "      <td>737.0</td>\n",
       "      <td>0.0</td>\n",
       "    </tr>\n",
       "    <tr>\n",
       "      <th>1</th>\n",
       "      <td>0.0</td>\n",
       "      <td>43.0</td>\n",
       "      <td>66.77075</td>\n",
       "      <td>0.0</td>\n",
       "      <td>0.0</td>\n",
       "      <td>0.0</td>\n",
       "      <td>100.0</td>\n",
       "      <td>0.0</td>\n",
       "      <td>1.0</td>\n",
       "      <td>654.0</td>\n",
       "      <td>...</td>\n",
       "      <td>0.0</td>\n",
       "      <td>2.0</td>\n",
       "      <td>0.0</td>\n",
       "      <td>1.0</td>\n",
       "      <td>1.0</td>\n",
       "      <td>318.0</td>\n",
       "      <td>432.0</td>\n",
       "      <td>912.0</td>\n",
       "      <td>1213.0</td>\n",
       "      <td>0.0</td>\n",
       "    </tr>\n",
       "    <tr>\n",
       "      <th>2</th>\n",
       "      <td>1.0</td>\n",
       "      <td>34.0</td>\n",
       "      <td>82.91725</td>\n",
       "      <td>0.0</td>\n",
       "      <td>0.0</td>\n",
       "      <td>0.0</td>\n",
       "      <td>90.0</td>\n",
       "      <td>0.0</td>\n",
       "      <td>1.0</td>\n",
       "      <td>710.0</td>\n",
       "      <td>...</td>\n",
       "      <td>1.0</td>\n",
       "      <td>2.0</td>\n",
       "      <td>0.0</td>\n",
       "      <td>1.0</td>\n",
       "      <td>1.0</td>\n",
       "      <td>326.0</td>\n",
       "      <td>524.0</td>\n",
       "      <td>660.0</td>\n",
       "      <td>835.0</td>\n",
       "      <td>0.0</td>\n",
       "    </tr>\n",
       "    <tr>\n",
       "      <th>3</th>\n",
       "      <td>1.0</td>\n",
       "      <td>41.0</td>\n",
       "      <td>98.91817</td>\n",
       "      <td>0.0</td>\n",
       "      <td>0.0</td>\n",
       "      <td>0.0</td>\n",
       "      <td>81.0</td>\n",
       "      <td>0.0</td>\n",
       "      <td>1.0</td>\n",
       "      <td>992.0</td>\n",
       "      <td>...</td>\n",
       "      <td>1.0</td>\n",
       "      <td>3.0</td>\n",
       "      <td>0.0</td>\n",
       "      <td>1.0</td>\n",
       "      <td>0.0</td>\n",
       "      <td>318.0</td>\n",
       "      <td>232.0</td>\n",
       "      <td>1131.0</td>\n",
       "      <td>982.0</td>\n",
       "      <td>1.0</td>\n",
       "    </tr>\n",
       "    <tr>\n",
       "      <th>4</th>\n",
       "      <td>3.0</td>\n",
       "      <td>47.0</td>\n",
       "      <td>53.61717</td>\n",
       "      <td>0.0</td>\n",
       "      <td>1.0</td>\n",
       "      <td>0.0</td>\n",
       "      <td>100.0</td>\n",
       "      <td>0.0</td>\n",
       "      <td>0.0</td>\n",
       "      <td>0.0</td>\n",
       "      <td>...</td>\n",
       "      <td>0.0</td>\n",
       "      <td>1.0</td>\n",
       "      <td>0.0</td>\n",
       "      <td>1.0</td>\n",
       "      <td>0.0</td>\n",
       "      <td>280.0</td>\n",
       "      <td>337.0</td>\n",
       "      <td>515.0</td>\n",
       "      <td>679.0</td>\n",
       "      <td>0.0</td>\n",
       "    </tr>\n",
       "  </tbody>\n",
       "</table>\n",
       "<p>5 rows × 22 columns</p>\n",
       "</div>"
      ],
      "text/plain": [
       "   f_0   f_1       f_2  f_3  f_4  f_5    f_6  f_7  f_8    f_9  ...  f_12  \\\n",
       "0  1.0  37.0  88.11364  0.0  1.0  1.0  100.0  0.0  1.0  169.0  ...   1.0   \n",
       "1  0.0  43.0  66.77075  0.0  0.0  0.0  100.0  0.0  1.0  654.0  ...   0.0   \n",
       "2  1.0  34.0  82.91725  0.0  0.0  0.0   90.0  0.0  1.0  710.0  ...   1.0   \n",
       "3  1.0  41.0  98.91817  0.0  0.0  0.0   81.0  0.0  1.0  992.0  ...   1.0   \n",
       "4  3.0  47.0  53.61717  0.0  1.0  0.0  100.0  0.0  0.0    0.0  ...   0.0   \n",
       "\n",
       "   f_13  f_14  f_15  f_16   f_17   f_18    f_19    f_20  label  \n",
       "0   1.0   0.0   0.0   0.0  389.0  320.0   734.0   737.0    0.0  \n",
       "1   2.0   0.0   1.0   1.0  318.0  432.0   912.0  1213.0    0.0  \n",
       "2   2.0   0.0   1.0   1.0  326.0  524.0   660.0   835.0    0.0  \n",
       "3   3.0   0.0   1.0   0.0  318.0  232.0  1131.0   982.0    1.0  \n",
       "4   1.0   0.0   1.0   0.0  280.0  337.0   515.0   679.0    0.0  \n",
       "\n",
       "[5 rows x 22 columns]"
      ]
     },
     "execution_count": 27,
     "metadata": {},
     "output_type": "execute_result"
    }
   ],
   "source": [
    "df.head()"
   ]
  },
  {
   "cell_type": "code",
   "execution_count": 30,
   "id": "c87f3d9e-f929-411c-811e-0e213e94bc16",
   "metadata": {
    "tags": []
   },
   "outputs": [
    {
     "data": {
      "text/plain": [
       "label\n",
       "0.0    0.844933\n",
       "1.0    0.155067\n",
       "Name: count, dtype: float64"
      ]
     },
     "execution_count": 30,
     "metadata": {},
     "output_type": "execute_result"
    }
   ],
   "source": [
    "df.label.value_counts()/df.shape[0]"
   ]
  },
  {
   "cell_type": "code",
   "execution_count": 32,
   "id": "1df484b7-78a7-4d99-b06b-52d30b8ce56f",
   "metadata": {
    "tags": []
   },
   "outputs": [],
   "source": [
    "data['label_flip'] = data['label']"
   ]
  },
  {
   "cell_type": "code",
   "execution_count": 34,
   "id": "d217f2f5-87db-4d1f-803d-b2a0a248c31b",
   "metadata": {
    "tags": []
   },
   "outputs": [],
   "source": [
    "df = data.apply(lambda x: flip_generator(x,0.5), axis=1)"
   ]
  },
  {
   "cell_type": "code",
   "execution_count": 35,
   "id": "29e0ada0-4f58-434b-b08b-81f2b174a86e",
   "metadata": {
    "tags": []
   },
   "outputs": [
    {
     "data": {
      "text/html": [
       "<div>\n",
       "<style scoped>\n",
       "    .dataframe tbody tr th:only-of-type {\n",
       "        vertical-align: middle;\n",
       "    }\n",
       "\n",
       "    .dataframe tbody tr th {\n",
       "        vertical-align: top;\n",
       "    }\n",
       "\n",
       "    .dataframe thead th {\n",
       "        text-align: right;\n",
       "    }\n",
       "</style>\n",
       "<table border=\"1\" class=\"dataframe\">\n",
       "  <thead>\n",
       "    <tr style=\"text-align: right;\">\n",
       "      <th></th>\n",
       "      <th>f_0</th>\n",
       "      <th>f_1</th>\n",
       "      <th>f_2</th>\n",
       "      <th>f_3</th>\n",
       "      <th>f_4</th>\n",
       "      <th>f_5</th>\n",
       "      <th>f_6</th>\n",
       "      <th>f_7</th>\n",
       "      <th>f_8</th>\n",
       "      <th>f_9</th>\n",
       "      <th>...</th>\n",
       "      <th>f_13</th>\n",
       "      <th>f_14</th>\n",
       "      <th>f_15</th>\n",
       "      <th>f_16</th>\n",
       "      <th>f_17</th>\n",
       "      <th>f_18</th>\n",
       "      <th>f_19</th>\n",
       "      <th>f_20</th>\n",
       "      <th>label</th>\n",
       "      <th>label_flip</th>\n",
       "    </tr>\n",
       "  </thead>\n",
       "  <tbody>\n",
       "    <tr>\n",
       "      <th>0</th>\n",
       "      <td>1.0</td>\n",
       "      <td>37.0</td>\n",
       "      <td>88.11364</td>\n",
       "      <td>0.0</td>\n",
       "      <td>1.0</td>\n",
       "      <td>1.0</td>\n",
       "      <td>100.0</td>\n",
       "      <td>0.0</td>\n",
       "      <td>1.0</td>\n",
       "      <td>169.0</td>\n",
       "      <td>...</td>\n",
       "      <td>1.0</td>\n",
       "      <td>0.0</td>\n",
       "      <td>0.0</td>\n",
       "      <td>0.0</td>\n",
       "      <td>389.0</td>\n",
       "      <td>320.0</td>\n",
       "      <td>734.0</td>\n",
       "      <td>737.0</td>\n",
       "      <td>1.0</td>\n",
       "      <td>1.0</td>\n",
       "    </tr>\n",
       "    <tr>\n",
       "      <th>1</th>\n",
       "      <td>0.0</td>\n",
       "      <td>43.0</td>\n",
       "      <td>66.77075</td>\n",
       "      <td>0.0</td>\n",
       "      <td>0.0</td>\n",
       "      <td>0.0</td>\n",
       "      <td>100.0</td>\n",
       "      <td>0.0</td>\n",
       "      <td>1.0</td>\n",
       "      <td>654.0</td>\n",
       "      <td>...</td>\n",
       "      <td>2.0</td>\n",
       "      <td>0.0</td>\n",
       "      <td>1.0</td>\n",
       "      <td>1.0</td>\n",
       "      <td>318.0</td>\n",
       "      <td>432.0</td>\n",
       "      <td>912.0</td>\n",
       "      <td>1213.0</td>\n",
       "      <td>0.0</td>\n",
       "      <td>0.0</td>\n",
       "    </tr>\n",
       "    <tr>\n",
       "      <th>2</th>\n",
       "      <td>1.0</td>\n",
       "      <td>34.0</td>\n",
       "      <td>82.91725</td>\n",
       "      <td>0.0</td>\n",
       "      <td>0.0</td>\n",
       "      <td>0.0</td>\n",
       "      <td>90.0</td>\n",
       "      <td>0.0</td>\n",
       "      <td>1.0</td>\n",
       "      <td>710.0</td>\n",
       "      <td>...</td>\n",
       "      <td>2.0</td>\n",
       "      <td>0.0</td>\n",
       "      <td>1.0</td>\n",
       "      <td>1.0</td>\n",
       "      <td>326.0</td>\n",
       "      <td>524.0</td>\n",
       "      <td>660.0</td>\n",
       "      <td>835.0</td>\n",
       "      <td>0.0</td>\n",
       "      <td>0.0</td>\n",
       "    </tr>\n",
       "    <tr>\n",
       "      <th>3</th>\n",
       "      <td>1.0</td>\n",
       "      <td>41.0</td>\n",
       "      <td>98.91817</td>\n",
       "      <td>0.0</td>\n",
       "      <td>0.0</td>\n",
       "      <td>0.0</td>\n",
       "      <td>81.0</td>\n",
       "      <td>0.0</td>\n",
       "      <td>1.0</td>\n",
       "      <td>992.0</td>\n",
       "      <td>...</td>\n",
       "      <td>3.0</td>\n",
       "      <td>0.0</td>\n",
       "      <td>1.0</td>\n",
       "      <td>0.0</td>\n",
       "      <td>318.0</td>\n",
       "      <td>232.0</td>\n",
       "      <td>1131.0</td>\n",
       "      <td>982.0</td>\n",
       "      <td>1.0</td>\n",
       "      <td>0.0</td>\n",
       "    </tr>\n",
       "    <tr>\n",
       "      <th>4</th>\n",
       "      <td>3.0</td>\n",
       "      <td>47.0</td>\n",
       "      <td>53.61717</td>\n",
       "      <td>0.0</td>\n",
       "      <td>1.0</td>\n",
       "      <td>0.0</td>\n",
       "      <td>100.0</td>\n",
       "      <td>0.0</td>\n",
       "      <td>0.0</td>\n",
       "      <td>0.0</td>\n",
       "      <td>...</td>\n",
       "      <td>1.0</td>\n",
       "      <td>0.0</td>\n",
       "      <td>1.0</td>\n",
       "      <td>0.0</td>\n",
       "      <td>280.0</td>\n",
       "      <td>337.0</td>\n",
       "      <td>515.0</td>\n",
       "      <td>679.0</td>\n",
       "      <td>0.0</td>\n",
       "      <td>0.0</td>\n",
       "    </tr>\n",
       "  </tbody>\n",
       "</table>\n",
       "<p>5 rows × 23 columns</p>\n",
       "</div>"
      ],
      "text/plain": [
       "   f_0   f_1       f_2  f_3  f_4  f_5    f_6  f_7  f_8    f_9  ...  f_13  \\\n",
       "0  1.0  37.0  88.11364  0.0  1.0  1.0  100.0  0.0  1.0  169.0  ...   1.0   \n",
       "1  0.0  43.0  66.77075  0.0  0.0  0.0  100.0  0.0  1.0  654.0  ...   2.0   \n",
       "2  1.0  34.0  82.91725  0.0  0.0  0.0   90.0  0.0  1.0  710.0  ...   2.0   \n",
       "3  1.0  41.0  98.91817  0.0  0.0  0.0   81.0  0.0  1.0  992.0  ...   3.0   \n",
       "4  3.0  47.0  53.61717  0.0  1.0  0.0  100.0  0.0  0.0    0.0  ...   1.0   \n",
       "\n",
       "   f_14  f_15  f_16   f_17   f_18    f_19    f_20  label  label_flip  \n",
       "0   0.0   0.0   0.0  389.0  320.0   734.0   737.0    1.0         1.0  \n",
       "1   0.0   1.0   1.0  318.0  432.0   912.0  1213.0    0.0         0.0  \n",
       "2   0.0   1.0   1.0  326.0  524.0   660.0   835.0    0.0         0.0  \n",
       "3   0.0   1.0   0.0  318.0  232.0  1131.0   982.0    1.0         0.0  \n",
       "4   0.0   1.0   0.0  280.0  337.0   515.0   679.0    0.0         0.0  \n",
       "\n",
       "[5 rows x 23 columns]"
      ]
     },
     "execution_count": 35,
     "metadata": {},
     "output_type": "execute_result"
    }
   ],
   "source": [
    "df.head()"
   ]
  },
  {
   "cell_type": "code",
   "execution_count": 38,
   "id": "acb60e32-df44-42b3-99e1-3dc20a624f41",
   "metadata": {
    "tags": []
   },
   "outputs": [
    {
     "data": {
      "text/plain": [
       "label\n",
       "0.0    0.691267\n",
       "1.0    0.308733\n",
       "Name: count, dtype: float64"
      ]
     },
     "execution_count": 38,
     "metadata": {},
     "output_type": "execute_result"
    }
   ],
   "source": [
    "df.label.value_counts()/df.shape[0]"
   ]
  },
  {
   "cell_type": "code",
   "execution_count": 39,
   "id": "4e650620-140e-468f-a7be-e859d73c589c",
   "metadata": {
    "tags": []
   },
   "outputs": [
    {
     "data": {
      "text/plain": [
       "label_flip\n",
       "0.0    0.847467\n",
       "1.0    0.152533\n",
       "Name: count, dtype: float64"
      ]
     },
     "execution_count": 39,
     "metadata": {},
     "output_type": "execute_result"
    }
   ],
   "source": [
    "df.label_flip.value_counts()/df.shape[0]"
   ]
  },
  {
   "cell_type": "code",
   "execution_count": 40,
   "id": "83ca5e0d-14d0-40a9-9be0-9e0e9088bda7",
   "metadata": {
    "tags": []
   },
   "outputs": [
    {
     "data": {
      "text/plain": [
       "(15000, 23)"
      ]
     },
     "execution_count": 40,
     "metadata": {},
     "output_type": "execute_result"
    }
   ],
   "source": [
    "df.shape"
   ]
  },
  {
   "cell_type": "code",
   "execution_count": 44,
   "id": "b6af001c-169a-4302-af6d-815637e81e6b",
   "metadata": {
    "tags": []
   },
   "outputs": [
    {
     "data": {
      "text/plain": [
       "label\n",
       "0.0    10369\n",
       "1.0     4631\n",
       "Name: count, dtype: int64"
      ]
     },
     "execution_count": 44,
     "metadata": {},
     "output_type": "execute_result"
    }
   ],
   "source": [
    "df.label.value_counts()"
   ]
  },
  {
   "cell_type": "code",
   "execution_count": 41,
   "id": "8bd42277-dc35-47dc-a1ae-db2038cc1adb",
   "metadata": {
    "tags": []
   },
   "outputs": [
    {
     "data": {
      "text/plain": [
       "label_flip\n",
       "0.0    12712\n",
       "1.0     2288\n",
       "Name: count, dtype: int64"
      ]
     },
     "execution_count": 41,
     "metadata": {},
     "output_type": "execute_result"
    }
   ],
   "source": [
    "df.label_flip.value_counts()"
   ]
  },
  {
   "cell_type": "code",
   "execution_count": 51,
   "id": "680f5cf6-90f8-4283-8a4e-f5d2391aee1e",
   "metadata": {
    "tags": []
   },
   "outputs": [
    {
     "data": {
      "text/plain": [
       "5122.926365795724"
      ]
     },
     "execution_count": 51,
     "metadata": {},
     "output_type": "execute_result"
    }
   ],
   "source": [
    "new_sample_size_healthy= (df.label.value_counts()[0]/df.label.value_counts()[1])*df.label_flip.value_counts()[1]\n",
    "new_sample_size_healthy"
   ]
  },
  {
   "cell_type": "code",
   "execution_count": 52,
   "id": "caa3ffe0-cf3e-4f94-9c44-f3caa0cf3b04",
   "metadata": {
    "tags": []
   },
   "outputs": [
    {
     "data": {
      "text/plain": [
       "7589.073634204276"
      ]
     },
     "execution_count": 52,
     "metadata": {},
     "output_type": "execute_result"
    }
   ],
   "source": [
    "no_samples_drop = df.label_flip.value_counts()[0]-new_sample_size_healthy\n",
    "no_samples_drop"
   ]
  },
  {
   "cell_type": "code",
   "execution_count": 53,
   "id": "605d7cb6-9696-4c73-bc25-fb1c79a41621",
   "metadata": {
    "tags": []
   },
   "outputs": [],
   "source": [
    "df_filtered = df[(df['label']==0) & (df['label_flip']==0)]"
   ]
  },
  {
   "cell_type": "code",
   "execution_count": 80,
   "id": "78b82df9-2d49-4d9f-94a5-601881db32d0",
   "metadata": {
    "tags": []
   },
   "outputs": [
    {
     "data": {
      "text/plain": [
       "(2343, 23)"
      ]
     },
     "execution_count": 80,
     "metadata": {},
     "output_type": "execute_result"
    }
   ],
   "source": [
    "df[(df['label']!=0) & (df['label_flip']==0)].shape"
   ]
  },
  {
   "cell_type": "code",
   "execution_count": 81,
   "id": "a115e360-c5cd-417f-a533-1d4d7ff777b1",
   "metadata": {
    "tags": []
   },
   "outputs": [
    {
     "data": {
      "text/plain": [
       "(10369, 23)"
      ]
     },
     "execution_count": 81,
     "metadata": {},
     "output_type": "execute_result"
    }
   ],
   "source": [
    "df[(df['label']==0) & (df['label_flip']==0)].shape"
   ]
  },
  {
   "cell_type": "code",
   "execution_count": 83,
   "id": "bdcdd953-8ea5-4b70-bdf1-3b351ce68f9a",
   "metadata": {
    "tags": []
   },
   "outputs": [
    {
     "data": {
      "text/plain": [
       "8026"
      ]
     },
     "execution_count": 83,
     "metadata": {},
     "output_type": "execute_result"
    }
   ],
   "source": [
    "df[(df['label']==0) & (df['label_flip']==0)].shape[0] - df[(df['label']!=0) & (df['label_flip']==0)].shape[0]"
   ]
  },
  {
   "cell_type": "code",
   "execution_count": 84,
   "id": "ac379fc5-a53a-4806-818d-f6eee57b2518",
   "metadata": {
    "tags": []
   },
   "outputs": [
    {
     "data": {
      "text/plain": [
       "2779.9263657957245"
      ]
     },
     "execution_count": 84,
     "metadata": {},
     "output_type": "execute_result"
    }
   ],
   "source": [
    "a = (df.label.value_counts()[0]/df.label.value_counts()[1])*df.label_flip.value_counts()[1]\n",
    "b = a - df[(df['label']!=0) & (df['label_flip']==0)].shape[0]\n",
    "b"
   ]
  },
  {
   "cell_type": "code",
   "execution_count": 85,
   "id": "d815b5b4-60d2-454e-857d-bc5709d5d731",
   "metadata": {
    "tags": []
   },
   "outputs": [
    {
     "data": {
      "text/plain": [
       "5122.926365795724"
      ]
     },
     "execution_count": 85,
     "metadata": {},
     "output_type": "execute_result"
    }
   ],
   "source": [
    "df[(df['label']!=0) & (df['label_flip']==0)].shape[0]+b"
   ]
  },
  {
   "cell_type": "code",
   "execution_count": 62,
   "id": "37fa039e-7553-4285-9464-e9f08d4b216f",
   "metadata": {
    "tags": []
   },
   "outputs": [
    {
     "data": {
      "text/plain": [
       "5122.926365795724"
      ]
     },
     "execution_count": 62,
     "metadata": {},
     "output_type": "execute_result"
    }
   ],
   "source": [
    "new_sample_size_healthy"
   ]
  },
  {
   "cell_type": "code",
   "execution_count": 63,
   "id": "c94443af-c19c-448a-87a1-d58c8642c29f",
   "metadata": {
    "tags": []
   },
   "outputs": [
    {
     "data": {
      "text/plain": [
       "(5122, 23)"
      ]
     },
     "execution_count": 63,
     "metadata": {},
     "output_type": "execute_result"
    }
   ],
   "source": [
    "df_filtered = df_filtered.sample(int(new_sample_size_healthy))\n",
    "df_filtered.shape"
   ]
  },
  {
   "cell_type": "code",
   "execution_count": 67,
   "id": "a0d7e4d6-60e0-4d4b-955c-8e62066e06b1",
   "metadata": {
    "tags": []
   },
   "outputs": [
    {
     "data": {
      "text/plain": [
       "(2288, 23)"
      ]
     },
     "execution_count": 67,
     "metadata": {},
     "output_type": "execute_result"
    }
   ],
   "source": [
    "df_filtered_unhealthy =  df[(df['label']!=0) & (df['label_flip']!=0)]\n",
    "df_filtered_unhealthy.shape"
   ]
  },
  {
   "cell_type": "code",
   "execution_count": 68,
   "id": "d381aaf2-15e0-4bb1-a766-55fbe45ca57b",
   "metadata": {
    "tags": []
   },
   "outputs": [],
   "source": [
    "df_comb = pd.concat([df_filtered,df_filtered_unhealthy])"
   ]
  },
  {
   "cell_type": "code",
   "execution_count": 69,
   "id": "3e71f0de-204c-4c78-bb20-cb3ba6ce8d13",
   "metadata": {
    "tags": []
   },
   "outputs": [
    {
     "data": {
      "text/plain": [
       "(7410, 23)"
      ]
     },
     "execution_count": 69,
     "metadata": {},
     "output_type": "execute_result"
    }
   ],
   "source": [
    "df_comb.shape"
   ]
  },
  {
   "cell_type": "code",
   "execution_count": 70,
   "id": "cac1c99b-816b-49ec-829a-9aba8fdf7893",
   "metadata": {
    "tags": []
   },
   "outputs": [
    {
     "data": {
      "text/plain": [
       "label_flip\n",
       "0.0    0.691228\n",
       "1.0    0.308772\n",
       "Name: count, dtype: float64"
      ]
     },
     "execution_count": 70,
     "metadata": {},
     "output_type": "execute_result"
    }
   ],
   "source": [
    "df_comb.label_flip.value_counts()/df_comb.shape[0]"
   ]
  },
  {
   "cell_type": "code",
   "execution_count": 76,
   "id": "33573d33-edb9-44c3-bb6f-ad8ee3680699",
   "metadata": {
    "tags": []
   },
   "outputs": [
    {
     "data": {
      "text/plain": [
       "label\n",
       "0.0    5122\n",
       "1.0    2288\n",
       "Name: count, dtype: int64"
      ]
     },
     "execution_count": 76,
     "metadata": {},
     "output_type": "execute_result"
    }
   ],
   "source": [
    "df_comb.label.value_counts()"
   ]
  },
  {
   "cell_type": "code",
   "execution_count": 77,
   "id": "e291012a-ce61-4bda-9859-d4af60c266b5",
   "metadata": {
    "tags": []
   },
   "outputs": [
    {
     "data": {
      "text/plain": [
       "label_flip\n",
       "0.0    5122\n",
       "1.0    2288\n",
       "Name: count, dtype: int64"
      ]
     },
     "execution_count": 77,
     "metadata": {},
     "output_type": "execute_result"
    }
   ],
   "source": [
    "df_comb.label_flip.value_counts()"
   ]
  },
  {
   "cell_type": "code",
   "execution_count": 72,
   "id": "349ddd50-fc07-4c21-bcd5-372864b9bd8c",
   "metadata": {
    "tags": []
   },
   "outputs": [],
   "source": [
    "df1 = data.apply(lambda x: flip_generator(x,0.2), axis=1)"
   ]
  },
  {
   "cell_type": "code",
   "execution_count": 73,
   "id": "26939f1d-ebad-483b-8237-210d714ca988",
   "metadata": {
    "tags": []
   },
   "outputs": [
    {
     "data": {
      "text/plain": [
       "2001.7028719499028"
      ]
     },
     "execution_count": 73,
     "metadata": {},
     "output_type": "execute_result"
    }
   ],
   "source": [
    "new_sample_size_healthy1= (df1.label.value_counts()[0]/df1.label.value_counts()[1])*df1.label_flip.value_counts()[1]\n",
    "new_sample_size_healthy1"
   ]
  },
  {
   "cell_type": "code",
   "execution_count": 74,
   "id": "31b0a53a-d2af-4f1c-9952-c95598525be6",
   "metadata": {
    "tags": []
   },
   "outputs": [
    {
     "data": {
      "text/plain": [
       "12104.297128050097"
      ]
     },
     "execution_count": 74,
     "metadata": {},
     "output_type": "execute_result"
    }
   ],
   "source": [
    "no_samples_drop1 = df1.label_flip.value_counts()[0]-new_sample_size_healthy1\n",
    "no_samples_drop1"
   ]
  },
  {
   "cell_type": "code",
   "execution_count": null,
   "id": "bceb2c2e-dc6c-4833-9c64-35832847c108",
   "metadata": {},
   "outputs": [],
   "source": []
  }
 ],
 "metadata": {
  "kernelspec": {
   "display_name": "Python 3 (ipykernel)",
   "language": "python",
   "name": "python3"
  },
  "language_info": {
   "codemirror_mode": {
    "name": "ipython",
    "version": 3
   },
   "file_extension": ".py",
   "mimetype": "text/x-python",
   "name": "python",
   "nbconvert_exporter": "python",
   "pygments_lexer": "ipython3",
   "version": "3.11.5"
  }
 },
 "nbformat": 4,
 "nbformat_minor": 5
}
